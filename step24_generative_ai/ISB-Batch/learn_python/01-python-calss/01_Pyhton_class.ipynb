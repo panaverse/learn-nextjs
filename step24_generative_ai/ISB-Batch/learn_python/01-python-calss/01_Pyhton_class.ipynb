{
  "nbformat": 4,
  "nbformat_minor": 0,
  "metadata": {
    "colab": {
      "provenance": []
    },
    "kernelspec": {
      "name": "python3",
      "display_name": "Python 3"
    },
    "language_info": {
      "name": "python"
    }
  },
  "cells": [
    {
      "cell_type": "code",
      "execution_count": 1,
      "metadata": {
        "colab": {
          "base_uri": "https://localhost:8080/"
        },
        "id": "rREXzB-Ds-tD",
        "outputId": "371026bb-550f-4177-b9a1-0a09dbdad9f7"
      },
      "outputs": [
        {
          "output_type": "stream",
          "name": "stdout",
          "text": [
            "Hello world\n"
          ]
        }
      ],
      "source": [
        "print(\"Hello world\")"
      ]
    },
    {
      "cell_type": "code",
      "source": [
        "a = \"Usman\"\n",
        "\n",
        "print(a)\n",
        "\n",
        "a = 7\n",
        "\n",
        "print(a)"
      ],
      "metadata": {
        "colab": {
          "base_uri": "https://localhost:8080/"
        },
        "id": "BrihPlhTv6im",
        "outputId": "76bc1d18-0d03-47ee-cef0-51c5f028a5e0"
      },
      "execution_count": 1,
      "outputs": [
        {
          "output_type": "stream",
          "name": "stdout",
          "text": [
            "Usman\n",
            "7\n"
          ]
        }
      ]
    },
    {
      "cell_type": "code",
      "source": [],
      "metadata": {
        "id": "-8geW7Uo0020"
      },
      "execution_count": null,
      "outputs": []
    },
    {
      "cell_type": "code",
      "source": [
        "name : str = \"Usman\"\n",
        "\n",
        "print(name)"
      ],
      "metadata": {
        "colab": {
          "base_uri": "https://localhost:8080/"
        },
        "id": "paR4YulDwWaS",
        "outputId": "747d79aa-70c4-49f6-da4e-3d91904bcf81"
      },
      "execution_count": 2,
      "outputs": [
        {
          "output_type": "stream",
          "name": "stdout",
          "text": [
            "Usman\n"
          ]
        }
      ]
    },
    {
      "cell_type": "code",
      "source": [
        "a : int = \"Pakistan\"\n",
        "\n",
        "print(a)"
      ],
      "metadata": {
        "colab": {
          "base_uri": "https://localhost:8080/"
        },
        "id": "JiPLRn2_w_Gq",
        "outputId": "4f0d0947-968a-4317-d81e-258d2ce333b2"
      },
      "execution_count": 3,
      "outputs": [
        {
          "output_type": "stream",
          "name": "stdout",
          "text": [
            "Pakistan\n"
          ]
        }
      ]
    },
    {
      "cell_type": "code",
      "source": [
        "a : int = 10\n",
        "\n",
        "print(type(a))\n",
        "\n",
        "print(id(a))\n",
        "\n",
        "print(a)\n",
        "\n",
        "print(dir(a))"
      ],
      "metadata": {
        "colab": {
          "base_uri": "https://localhost:8080/"
        },
        "id": "aNGDDN-8z6sN",
        "outputId": "3c5b35df-3936-40ce-e664-255dc9694859"
      },
      "execution_count": 4,
      "outputs": [
        {
          "output_type": "stream",
          "name": "stdout",
          "text": [
            "<class 'int'>\n",
            "138545278272016\n",
            "10\n",
            "['__abs__', '__add__', '__and__', '__bool__', '__ceil__', '__class__', '__delattr__', '__dir__', '__divmod__', '__doc__', '__eq__', '__float__', '__floor__', '__floordiv__', '__format__', '__ge__', '__getattribute__', '__getnewargs__', '__gt__', '__hash__', '__index__', '__init__', '__init_subclass__', '__int__', '__invert__', '__le__', '__lshift__', '__lt__', '__mod__', '__mul__', '__ne__', '__neg__', '__new__', '__or__', '__pos__', '__pow__', '__radd__', '__rand__', '__rdivmod__', '__reduce__', '__reduce_ex__', '__repr__', '__rfloordiv__', '__rlshift__', '__rmod__', '__rmul__', '__ror__', '__round__', '__rpow__', '__rrshift__', '__rshift__', '__rsub__', '__rtruediv__', '__rxor__', '__setattr__', '__sizeof__', '__str__', '__sub__', '__subclasshook__', '__truediv__', '__trunc__', '__xor__', 'as_integer_ratio', 'bit_count', 'bit_length', 'conjugate', 'denominator', 'from_bytes', 'imag', 'numerator', 'real', 'to_bytes']\n"
          ]
        }
      ]
    },
    {
      "cell_type": "code",
      "source": [],
      "metadata": {
        "id": "Qhs6zhE502jh"
      },
      "execution_count": null,
      "outputs": []
    },
    {
      "cell_type": "code",
      "source": [
        "a : float = 10.723\n",
        "\n",
        "print(type(a))\n",
        "\n",
        "print(id(a))\n",
        "\n",
        "print(a)\n",
        "\n",
        "print(dir(a))"
      ],
      "metadata": {
        "colab": {
          "base_uri": "https://localhost:8080/"
        },
        "id": "e-dG9a_O0tad",
        "outputId": "d57a312c-fbd5-4c21-b2ab-b3f42f1efdfe"
      },
      "execution_count": 5,
      "outputs": [
        {
          "output_type": "stream",
          "name": "stdout",
          "text": [
            "<class 'float'>\n",
            "138544984332240\n",
            "10.723\n",
            "['__abs__', '__add__', '__bool__', '__ceil__', '__class__', '__delattr__', '__dir__', '__divmod__', '__doc__', '__eq__', '__float__', '__floor__', '__floordiv__', '__format__', '__ge__', '__getattribute__', '__getformat__', '__getnewargs__', '__gt__', '__hash__', '__init__', '__init_subclass__', '__int__', '__le__', '__lt__', '__mod__', '__mul__', '__ne__', '__neg__', '__new__', '__pos__', '__pow__', '__radd__', '__rdivmod__', '__reduce__', '__reduce_ex__', '__repr__', '__rfloordiv__', '__rmod__', '__rmul__', '__round__', '__rpow__', '__rsub__', '__rtruediv__', '__setattr__', '__setformat__', '__sizeof__', '__str__', '__sub__', '__subclasshook__', '__truediv__', '__trunc__', 'as_integer_ratio', 'conjugate', 'fromhex', 'hex', 'imag', 'is_integer', 'real']\n"
          ]
        }
      ]
    },
    {
      "cell_type": "code",
      "source": [
        "a : str = 'Pakistan'\n",
        "\n",
        "print(type(a))\n",
        "\n",
        "print(id(a))\n",
        "\n",
        "print(a)\n",
        "\n",
        "print(dir(a))"
      ],
      "metadata": {
        "colab": {
          "base_uri": "https://localhost:8080/"
        },
        "id": "Rx1ghYbo04lp",
        "outputId": "9c7c851f-a6d2-4f80-beb0-7844b8144e44"
      },
      "execution_count": 6,
      "outputs": [
        {
          "output_type": "stream",
          "name": "stdout",
          "text": [
            "<class 'str'>\n",
            "138544006807344\n",
            "Pakistan\n",
            "['__add__', '__class__', '__contains__', '__delattr__', '__dir__', '__doc__', '__eq__', '__format__', '__ge__', '__getattribute__', '__getitem__', '__getnewargs__', '__gt__', '__hash__', '__init__', '__init_subclass__', '__iter__', '__le__', '__len__', '__lt__', '__mod__', '__mul__', '__ne__', '__new__', '__reduce__', '__reduce_ex__', '__repr__', '__rmod__', '__rmul__', '__setattr__', '__sizeof__', '__str__', '__subclasshook__', 'capitalize', 'casefold', 'center', 'count', 'encode', 'endswith', 'expandtabs', 'find', 'format', 'format_map', 'index', 'isalnum', 'isalpha', 'isascii', 'isdecimal', 'isdigit', 'isidentifier', 'islower', 'isnumeric', 'isprintable', 'isspace', 'istitle', 'isupper', 'join', 'ljust', 'lower', 'lstrip', 'maketrans', 'partition', 'removeprefix', 'removesuffix', 'replace', 'rfind', 'rindex', 'rjust', 'rpartition', 'rsplit', 'rstrip', 'split', 'splitlines', 'startswith', 'strip', 'swapcase', 'title', 'translate', 'upper', 'zfill']\n"
          ]
        }
      ]
    },
    {
      "cell_type": "code",
      "source": [
        "a : bool = True\n",
        "\n",
        "print(type(a))\n",
        "\n",
        "print(id(a))\n",
        "\n",
        "print(a)\n",
        "\n",
        "print(dir(a))"
      ],
      "metadata": {
        "colab": {
          "base_uri": "https://localhost:8080/"
        },
        "id": "A6_id6Ht1Bmm",
        "outputId": "be0ce0b4-550d-42d7-9090-b3c9c3cbc1e8"
      },
      "execution_count": 7,
      "outputs": [
        {
          "output_type": "stream",
          "name": "stdout",
          "text": [
            "<class 'bool'>\n",
            "100583304225824\n",
            "True\n",
            "['__abs__', '__add__', '__and__', '__bool__', '__ceil__', '__class__', '__delattr__', '__dir__', '__divmod__', '__doc__', '__eq__', '__float__', '__floor__', '__floordiv__', '__format__', '__ge__', '__getattribute__', '__getnewargs__', '__gt__', '__hash__', '__index__', '__init__', '__init_subclass__', '__int__', '__invert__', '__le__', '__lshift__', '__lt__', '__mod__', '__mul__', '__ne__', '__neg__', '__new__', '__or__', '__pos__', '__pow__', '__radd__', '__rand__', '__rdivmod__', '__reduce__', '__reduce_ex__', '__repr__', '__rfloordiv__', '__rlshift__', '__rmod__', '__rmul__', '__ror__', '__round__', '__rpow__', '__rrshift__', '__rshift__', '__rsub__', '__rtruediv__', '__rxor__', '__setattr__', '__sizeof__', '__str__', '__sub__', '__subclasshook__', '__truediv__', '__trunc__', '__xor__', 'as_integer_ratio', 'bit_count', 'bit_length', 'conjugate', 'denominator', 'from_bytes', 'imag', 'numerator', 'real', 'to_bytes']\n"
          ]
        }
      ]
    },
    {
      "cell_type": "code",
      "source": [
        "a : list = [1,2,3,4,5]\n",
        "\n",
        "print(type(a))\n",
        "\n",
        "print(id(a))\n",
        "\n",
        "print(a)\n",
        "\n",
        "print(dir(a))"
      ],
      "metadata": {
        "colab": {
          "base_uri": "https://localhost:8080/"
        },
        "id": "TF7Dodv61Hg7",
        "outputId": "10d67530-e0eb-4763-9a20-841363fb7c75"
      },
      "execution_count": 8,
      "outputs": [
        {
          "output_type": "stream",
          "name": "stdout",
          "text": [
            "<class 'list'>\n",
            "138544007136192\n",
            "[1, 2, 3, 4, 5]\n",
            "['__add__', '__class__', '__class_getitem__', '__contains__', '__delattr__', '__delitem__', '__dir__', '__doc__', '__eq__', '__format__', '__ge__', '__getattribute__', '__getitem__', '__gt__', '__hash__', '__iadd__', '__imul__', '__init__', '__init_subclass__', '__iter__', '__le__', '__len__', '__lt__', '__mul__', '__ne__', '__new__', '__reduce__', '__reduce_ex__', '__repr__', '__reversed__', '__rmul__', '__setattr__', '__setitem__', '__sizeof__', '__str__', '__subclasshook__', 'append', 'clear', 'copy', 'count', 'extend', 'index', 'insert', 'pop', 'remove', 'reverse', 'sort']\n"
          ]
        }
      ]
    },
    {
      "cell_type": "code",
      "source": [
        "a : list[str] = [1,2,3,4,5]\n",
        "\n",
        "print(type(a))\n",
        "\n",
        "print(id(a))\n",
        "\n",
        "print(a)\n",
        "\n",
        "print(dir(a))"
      ],
      "metadata": {
        "colab": {
          "base_uri": "https://localhost:8080/"
        },
        "id": "-2Vi9Cm91eai",
        "outputId": "203c53d4-ce91-4347-8f07-ad49cfcb6cde"
      },
      "execution_count": 9,
      "outputs": [
        {
          "output_type": "stream",
          "name": "stdout",
          "text": [
            "<class 'list'>\n",
            "138544007066816\n",
            "[1, 2, 3, 4, 5]\n",
            "['__add__', '__class__', '__class_getitem__', '__contains__', '__delattr__', '__delitem__', '__dir__', '__doc__', '__eq__', '__format__', '__ge__', '__getattribute__', '__getitem__', '__gt__', '__hash__', '__iadd__', '__imul__', '__init__', '__init_subclass__', '__iter__', '__le__', '__len__', '__lt__', '__mul__', '__ne__', '__new__', '__reduce__', '__reduce_ex__', '__repr__', '__reversed__', '__rmul__', '__setattr__', '__setitem__', '__sizeof__', '__str__', '__subclasshook__', 'append', 'clear', 'copy', 'count', 'extend', 'index', 'insert', 'pop', 'remove', 'reverse', 'sort']\n"
          ]
        }
      ]
    },
    {
      "cell_type": "code",
      "source": [
        "#Solution\n",
        "a : list[str] = ['a','b','3','4','5']\n",
        "\n",
        "print(type(a))\n",
        "\n",
        "print(id(a))\n",
        "\n",
        "print(a)\n",
        "\n",
        "print(dir(a))"
      ],
      "metadata": {
        "colab": {
          "base_uri": "https://localhost:8080/"
        },
        "id": "TlUjy7fn1mDT",
        "outputId": "4b5a763e-51aa-4c53-acb1-3d42fbb3b132"
      },
      "execution_count": 10,
      "outputs": [
        {
          "output_type": "stream",
          "name": "stdout",
          "text": [
            "<class 'list'>\n",
            "138544032069952\n",
            "['a', 'b', '3', '4', '5']\n",
            "['__add__', '__class__', '__class_getitem__', '__contains__', '__delattr__', '__delitem__', '__dir__', '__doc__', '__eq__', '__format__', '__ge__', '__getattribute__', '__getitem__', '__gt__', '__hash__', '__iadd__', '__imul__', '__init__', '__init_subclass__', '__iter__', '__le__', '__len__', '__lt__', '__mul__', '__ne__', '__new__', '__reduce__', '__reduce_ex__', '__repr__', '__reversed__', '__rmul__', '__setattr__', '__setitem__', '__sizeof__', '__str__', '__subclasshook__', 'append', 'clear', 'copy', 'count', 'extend', 'index', 'insert', 'pop', 'remove', 'reverse', 'sort']\n"
          ]
        }
      ]
    },
    {
      "cell_type": "code",
      "source": [
        "a : set[str] = {'a','3','b','3','4','3','5'}\n",
        "\n",
        "print(type(a))\n",
        "\n",
        "print(id(a))\n",
        "\n",
        "print(a)\n",
        "\n",
        "print(dir(a))"
      ],
      "metadata": {
        "colab": {
          "base_uri": "https://localhost:8080/"
        },
        "id": "WqcbR8Ft2Szq",
        "outputId": "0553ae6d-158e-4cd9-eb02-b9a19e1622a3"
      },
      "execution_count": 11,
      "outputs": [
        {
          "output_type": "stream",
          "name": "stdout",
          "text": [
            "<class 'set'>\n",
            "138544008278784\n",
            "{'5', '3', 'b', '4', 'a'}\n",
            "['__and__', '__class__', '__class_getitem__', '__contains__', '__delattr__', '__dir__', '__doc__', '__eq__', '__format__', '__ge__', '__getattribute__', '__gt__', '__hash__', '__iand__', '__init__', '__init_subclass__', '__ior__', '__isub__', '__iter__', '__ixor__', '__le__', '__len__', '__lt__', '__ne__', '__new__', '__or__', '__rand__', '__reduce__', '__reduce_ex__', '__repr__', '__ror__', '__rsub__', '__rxor__', '__setattr__', '__sizeof__', '__str__', '__sub__', '__subclasshook__', '__xor__', 'add', 'clear', 'copy', 'difference', 'difference_update', 'discard', 'intersection', 'intersection_update', 'isdisjoint', 'issubset', 'issuperset', 'pop', 'remove', 'symmetric_difference', 'symmetric_difference_update', 'union', 'update']\n"
          ]
        }
      ]
    },
    {
      "cell_type": "code",
      "source": [
        "a : tuple[str] = ('a','3','b','3','4','3','5')\n",
        "\n",
        "print(type(a))\n",
        "\n",
        "print(id(a))\n",
        "\n",
        "print(a)\n",
        "\n",
        "print(dir(a))"
      ],
      "metadata": {
        "colab": {
          "base_uri": "https://localhost:8080/"
        },
        "id": "0HrUZtpQ2i_x",
        "outputId": "b0f4a618-b407-4bf5-c14c-a39704bb4087"
      },
      "execution_count": 12,
      "outputs": [
        {
          "output_type": "stream",
          "name": "stdout",
          "text": [
            "<class 'tuple'>\n",
            "138544007198944\n",
            "('a', '3', 'b', '3', '4', '3', '5')\n",
            "['__add__', '__class__', '__class_getitem__', '__contains__', '__delattr__', '__dir__', '__doc__', '__eq__', '__format__', '__ge__', '__getattribute__', '__getitem__', '__getnewargs__', '__gt__', '__hash__', '__init__', '__init_subclass__', '__iter__', '__le__', '__len__', '__lt__', '__mul__', '__ne__', '__new__', '__reduce__', '__reduce_ex__', '__repr__', '__rmul__', '__setattr__', '__sizeof__', '__str__', '__subclasshook__', 'count', 'index']\n"
          ]
        }
      ]
    },
    {
      "cell_type": "code",
      "source": [
        "a : dict[str,str] = {'a':'3',\n",
        "                     'b':'3',\n",
        "                     4:'3',\n",
        "                     'y':'5',\n",
        "                     'age':15}\n",
        "\n",
        "print(type(a))\n",
        "\n",
        "print(id(a))\n",
        "\n",
        "print(a)\n",
        "\n",
        "print(dir(a))"
      ],
      "metadata": {
        "colab": {
          "base_uri": "https://localhost:8080/"
        },
        "id": "i6Q1kUli3rQr",
        "outputId": "439f6781-7527-4af8-8ac0-ab17c7fe3934"
      },
      "execution_count": 13,
      "outputs": [
        {
          "output_type": "stream",
          "name": "stdout",
          "text": [
            "<class 'dict'>\n",
            "138544007140608\n",
            "{'a': '3', 'b': '3', 4: '3', 'y': '5', 'age': 15}\n",
            "['__class__', '__class_getitem__', '__contains__', '__delattr__', '__delitem__', '__dir__', '__doc__', '__eq__', '__format__', '__ge__', '__getattribute__', '__getitem__', '__gt__', '__hash__', '__init__', '__init_subclass__', '__ior__', '__iter__', '__le__', '__len__', '__lt__', '__ne__', '__new__', '__or__', '__reduce__', '__reduce_ex__', '__repr__', '__reversed__', '__ror__', '__setattr__', '__setitem__', '__sizeof__', '__str__', '__subclasshook__', 'clear', 'copy', 'fromkeys', 'get', 'items', 'keys', 'pop', 'popitem', 'setdefault', 'update', 'values']\n"
          ]
        }
      ]
    },
    {
      "cell_type": "code",
      "source": [
        "a : tuple[int,str,float] = (12,'usman',25.55)\n",
        "\n",
        "print(type(a))\n",
        "\n",
        "print(id(a))\n",
        "\n",
        "print(a)"
      ],
      "metadata": {
        "colab": {
          "base_uri": "https://localhost:8080/"
        },
        "id": "bxX3LyvA4TuE",
        "outputId": "e58f84ba-c7c5-45e7-e64d-711824cc2331"
      },
      "execution_count": 14,
      "outputs": [
        {
          "output_type": "stream",
          "name": "stdout",
          "text": [
            "<class 'tuple'>\n",
            "138544006868416\n",
            "(12, 'usman', 25.55)\n"
          ]
        }
      ]
    },
    {
      "cell_type": "code",
      "source": [
        "a : tuple[int,str,float] = ('usman',12,25.55)\n",
        "\n",
        "print(type(a))\n",
        "\n",
        "print(id(a))\n",
        "\n",
        "print(a)"
      ],
      "metadata": {
        "colab": {
          "base_uri": "https://localhost:8080/"
        },
        "id": "-2s5Pjts4aSL",
        "outputId": "5af6ed27-172c-4cb8-a1bf-90e4e2aed2ee"
      },
      "execution_count": 15,
      "outputs": [
        {
          "output_type": "stream",
          "name": "stdout",
          "text": [
            "<class 'tuple'>\n",
            "138544007148224\n",
            "('usman', 12, 25.55)\n"
          ]
        }
      ]
    },
    {
      "cell_type": "markdown",
      "source": [
        "# Chapter 2"
      ],
      "metadata": {
        "id": "viwdn82Z5Zoc"
      }
    },
    {
      "cell_type": "code",
      "source": [
        "a : str = \"Pakistan zindabad\"\n",
        "print(type(a))\n",
        "print(a)"
      ],
      "metadata": {
        "colab": {
          "base_uri": "https://localhost:8080/"
        },
        "id": "l0PXlrmn5dXY",
        "outputId": "bea11117-b823-49ba-ab4e-f553baf3ca93"
      },
      "execution_count": 16,
      "outputs": [
        {
          "output_type": "stream",
          "name": "stdout",
          "text": [
            "Pakistan zindabad\n"
          ]
        }
      ]
    },
    {
      "cell_type": "code",
      "source": [
        "b : str = 'string with single qoute'\n",
        "\n",
        "print(type(b))\n",
        "print(b)"
      ],
      "metadata": {
        "colab": {
          "base_uri": "https://localhost:8080/"
        },
        "id": "fovKB4bd5gy0",
        "outputId": "9827c2f2-7428-4a44-a25a-9beffe02079e"
      },
      "execution_count": 18,
      "outputs": [
        {
          "output_type": "stream",
          "name": "stdout",
          "text": [
            "<class 'str'>\n",
            "string with single qoute\n"
          ]
        }
      ]
    },
    {
      "cell_type": "code",
      "source": [
        "b : str = 'string's with single qoute'\n",
        "\n",
        "print(type(b))\n",
        "print(b)"
      ],
      "metadata": {
        "colab": {
          "base_uri": "https://localhost:8080/",
          "height": 140
        },
        "id": "oZWF8roy5qiB",
        "outputId": "4c646efc-d57a-49cc-ad59-c3142f346c24"
      },
      "execution_count": 19,
      "outputs": [
        {
          "output_type": "error",
          "ename": "SyntaxError",
          "evalue": "ignored",
          "traceback": [
            "\u001b[0;36m  File \u001b[0;32m\"<ipython-input-19-a432a0787ffa>\"\u001b[0;36m, line \u001b[0;32m1\u001b[0m\n\u001b[0;31m    b : str = 'string's with single qoute'\u001b[0m\n\u001b[0m                                         ^\u001b[0m\n\u001b[0;31mSyntaxError\u001b[0m\u001b[0;31m:\u001b[0m unterminated string literal (detected at line 1)\n"
          ]
        }
      ]
    },
    {
      "cell_type": "code",
      "source": [
        "b : str = \"string's with single qoute\"\n",
        "\n",
        "print(type(b))\n",
        "print(b)"
      ],
      "metadata": {
        "colab": {
          "base_uri": "https://localhost:8080/"
        },
        "id": "5drHLqtg5-0f",
        "outputId": "75dd1eda-d134-484b-9a57-002c3efa7823"
      },
      "execution_count": 20,
      "outputs": [
        {
          "output_type": "stream",
          "name": "stdout",
          "text": [
            "<class 'str'>\n",
            "string's with single qoute\n"
          ]
        }
      ]
    },
    {
      "cell_type": "code",
      "source": [
        "b : str = 'string \"Python\" with single qoute'\n",
        "\n",
        "print(type(b))\n",
        "print(b)"
      ],
      "metadata": {
        "colab": {
          "base_uri": "https://localhost:8080/"
        },
        "id": "jUHLn8ZC6Hi7",
        "outputId": "4762b44c-c963-4c3e-f96e-ad45d3c6c19b"
      },
      "execution_count": 21,
      "outputs": [
        {
          "output_type": "stream",
          "name": "stdout",
          "text": [
            "<class 'str'>\n",
            "string \"Python\" with single qoute\n"
          ]
        }
      ]
    },
    {
      "cell_type": "code",
      "source": [
        "b : str = 'string \"Python\"\\'s with single qoute'\n",
        "\n",
        "print(type(b))\n",
        "print(b)"
      ],
      "metadata": {
        "colab": {
          "base_uri": "https://localhost:8080/"
        },
        "id": "2zCzShCw6Rjj",
        "outputId": "a77bdd4d-a8ff-448e-c6fc-05ab524a0e48"
      },
      "execution_count": 22,
      "outputs": [
        {
          "output_type": "stream",
          "name": "stdout",
          "text": [
            "<class 'str'>\n",
            "string \"Python\"'s with single qoute\n"
          ]
        }
      ]
    },
    {
      "cell_type": "code",
      "source": [
        "b : str = 'line 1'\\\n",
        "'line 2'\\\n",
        "'line 3'\n",
        "\n",
        "print(type(b))\n",
        "print(b)"
      ],
      "metadata": {
        "colab": {
          "base_uri": "https://localhost:8080/"
        },
        "id": "vjB8by7O6xd0",
        "outputId": "209c29eb-d6f4-4f48-f6e3-f154695a091c"
      },
      "execution_count": 23,
      "outputs": [
        {
          "output_type": "stream",
          "name": "stdout",
          "text": [
            "<class 'str'>\n",
            "line 1line 2line 3\n"
          ]
        }
      ]
    },
    {
      "cell_type": "code",
      "source": [
        "b : str = 'line 1\\\n",
        "           line 2\\\n",
        "           line 3'\n",
        "\n",
        "print(type(b))\n",
        "print(b)"
      ],
      "metadata": {
        "colab": {
          "base_uri": "https://localhost:8080/"
        },
        "id": "2eq0HKNm7MU_",
        "outputId": "b9fe849f-bffc-4e3d-9892-6115a6f2a4a5"
      },
      "execution_count": 24,
      "outputs": [
        {
          "output_type": "stream",
          "name": "stdout",
          "text": [
            "<class 'str'>\n",
            "line 1           line 2           line 3\n"
          ]
        }
      ]
    },
    {
      "cell_type": "code",
      "source": [
        "b : str = `line 1\n",
        "           line 2\n",
        "           line 3`\n",
        "\n",
        "print(type(b))\n",
        "print(b)"
      ],
      "metadata": {
        "colab": {
          "base_uri": "https://localhost:8080/",
          "height": 140
        },
        "id": "_dYN0F8G7hHY",
        "outputId": "1cc51534-0066-4d9b-df77-941f83bc73e7"
      },
      "execution_count": 25,
      "outputs": [
        {
          "output_type": "error",
          "ename": "SyntaxError",
          "evalue": "ignored",
          "traceback": [
            "\u001b[0;36m  File \u001b[0;32m\"<ipython-input-25-f8562bb77812>\"\u001b[0;36m, line \u001b[0;32m1\u001b[0m\n\u001b[0;31m    b : str = `line 1\u001b[0m\n\u001b[0m              ^\u001b[0m\n\u001b[0;31mSyntaxError\u001b[0m\u001b[0;31m:\u001b[0m invalid syntax\n"
          ]
        }
      ]
    },
    {
      "cell_type": "code",
      "source": [
        "b : str = \"\"\"line 1\n",
        "line 2\n",
        "line 3\"\"\"\n",
        "\n",
        "print(type(b))\n",
        "print(b)"
      ],
      "metadata": {
        "colab": {
          "base_uri": "https://localhost:8080/"
        },
        "id": "iz5h_Cm37mXH",
        "outputId": "477b7fed-998d-44d0-ffa8-b017779007e8"
      },
      "execution_count": 27,
      "outputs": [
        {
          "output_type": "stream",
          "name": "stdout",
          "text": [
            "<class 'str'>\n",
            "line 1\n",
            "line 2\n",
            "line 3\n"
          ]
        }
      ]
    },
    {
      "cell_type": "markdown",
      "source": [
        "##Concatination"
      ],
      "metadata": {
        "id": "g7Kr74F171Gg"
      }
    },
    {
      "cell_type": "code",
      "source": [
        "name : str =\"Usman\"\n",
        "fname : str = \"Ashraf\"\n",
        "age :int= 26\n",
        "edu :str =\"BSCS\"\n",
        "\n",
        "card :str =\"PIAIC Student card\\nStudent Name:\\t\"+name+\"\\nFather's Name:\\t\"+fname+\"\\nAge:\\t\"+age\n",
        "\n",
        "print(card)"
      ],
      "metadata": {
        "colab": {
          "base_uri": "https://localhost:8080/",
          "height": 245
        },
        "id": "q5gioK4473mx",
        "outputId": "9875f87e-f010-4c18-9fc3-f075d5ee9c26"
      },
      "execution_count": 31,
      "outputs": [
        {
          "output_type": "error",
          "ename": "TypeError",
          "evalue": "ignored",
          "traceback": [
            "\u001b[0;31m---------------------------------------------------------------------------\u001b[0m",
            "\u001b[0;31mTypeError\u001b[0m                                 Traceback (most recent call last)",
            "\u001b[0;32m<ipython-input-31-3c39b26d0560>\u001b[0m in \u001b[0;36m<cell line: 6>\u001b[0;34m()\u001b[0m\n\u001b[1;32m      4\u001b[0m \u001b[0medu\u001b[0m \u001b[0;34m:\u001b[0m\u001b[0mstr\u001b[0m \u001b[0;34m=\u001b[0m\u001b[0;34m\"BSCS\"\u001b[0m\u001b[0;34m\u001b[0m\u001b[0;34m\u001b[0m\u001b[0m\n\u001b[1;32m      5\u001b[0m \u001b[0;34m\u001b[0m\u001b[0m\n\u001b[0;32m----> 6\u001b[0;31m \u001b[0mcard\u001b[0m \u001b[0;34m:\u001b[0m\u001b[0mstr\u001b[0m \u001b[0;34m=\u001b[0m\u001b[0;34m\"PIAIC Student card\\nStudent Name:\\t\"\u001b[0m\u001b[0;34m+\u001b[0m\u001b[0mname\u001b[0m\u001b[0;34m+\u001b[0m\u001b[0;34m\"\\nFather's Name:\\t\"\u001b[0m\u001b[0;34m+\u001b[0m\u001b[0mfname\u001b[0m\u001b[0;34m+\u001b[0m\u001b[0;34m\"\\nAge:\\t\"\u001b[0m\u001b[0;34m+\u001b[0m\u001b[0mage\u001b[0m\u001b[0;34m\u001b[0m\u001b[0;34m\u001b[0m\u001b[0m\n\u001b[0m\u001b[1;32m      7\u001b[0m \u001b[0;34m\u001b[0m\u001b[0m\n\u001b[1;32m      8\u001b[0m \u001b[0mprint\u001b[0m\u001b[0;34m(\u001b[0m\u001b[0mcard\u001b[0m\u001b[0;34m)\u001b[0m\u001b[0;34m\u001b[0m\u001b[0;34m\u001b[0m\u001b[0m\n",
            "\u001b[0;31mTypeError\u001b[0m: can only concatenate str (not \"int\") to str"
          ]
        }
      ]
    },
    {
      "cell_type": "code",
      "source": [
        "name : str =\"Usman\"\n",
        "fname : str = \"Ashraf\"\n",
        "age :int= 26\n",
        "edu :str =\"BSCS\"\n",
        "\n",
        "card :str =\"PIAIC Student card\\nStudent Name:\\t\"+name+\"\\nFather's Name:\\t\"+fname+\"\\nAge:\\t\"+str(age)\n",
        "\n",
        "print(card)"
      ],
      "metadata": {
        "colab": {
          "base_uri": "https://localhost:8080/"
        },
        "id": "ITeV-RU-9Kdf",
        "outputId": "9ca9e6d1-6230-40d7-e3f5-00053cd75c3a"
      },
      "execution_count": 32,
      "outputs": [
        {
          "output_type": "stream",
          "name": "stdout",
          "text": [
            "PIAIC Student card\n",
            "Student Name:\tUsman\n",
            "Father's Name:\tAshraf\n",
            "Age:\t26\n"
          ]
        }
      ]
    },
    {
      "cell_type": "markdown",
      "source": [
        "## using FString"
      ],
      "metadata": {
        "id": "dZYD17eH9gP1"
      }
    },
    {
      "cell_type": "code",
      "source": [
        "name : str =\"Usman\"\n",
        "fname : str = \"Ashraf\"\n",
        "age :int= 26\n",
        "edu :str =\"BSCS\"\n",
        "\n",
        "card :str =\"\"\"\n",
        "PIAIC Student Card\n",
        "Student Name:\\t{name}\n",
        "\"\"\"\n",
        "\n",
        "print(card)"
      ],
      "metadata": {
        "colab": {
          "base_uri": "https://localhost:8080/"
        },
        "id": "2UC4b8ez9h5E",
        "outputId": "a7bc3235-ab1a-456b-c757-360ed592cd7b"
      },
      "execution_count": 35,
      "outputs": [
        {
          "output_type": "stream",
          "name": "stdout",
          "text": [
            "\n",
            "PIAIC Student Card\n",
            "Student Name:\t{name}\n",
            "\n"
          ]
        }
      ]
    },
    {
      "cell_type": "code",
      "source": [
        "#using f infront of string        #Recommended Method\n",
        "name : str =\"Usman\"\n",
        "fname : str = \"Ashraf\"\n",
        "age :int= 26\n",
        "edu :str =\"BSCS\"\n",
        "\n",
        "card :str =f\"\"\"\n",
        "PIAIC Student Card\n",
        "Student Name:\\t{name}\n",
        "Father's Name:\\t{fname}\n",
        "Age:\\t{age}\n",
        "Education:\\t{edu}\n",
        "\"\"\"\n",
        "\n",
        "print(card)"
      ],
      "metadata": {
        "colab": {
          "base_uri": "https://localhost:8080/"
        },
        "id": "wAfMKare-MlA",
        "outputId": "93f23372-eee1-4fa9-e543-fd2b9ad320bd"
      },
      "execution_count": 40,
      "outputs": [
        {
          "output_type": "stream",
          "name": "stdout",
          "text": [
            "\n",
            "PIAIC Student Card\n",
            "Student Name:\tUsman\n",
            "Father's Name:\tAshraf\n",
            "Age:\t26\n",
            "Education:\tBSCS\n",
            "\n"
          ]
        }
      ]
    },
    {
      "cell_type": "code",
      "source": [
        "\n",
        "name : str =\"Usman\"\n",
        "fname : str = \"Ashraf\"\n",
        "age :int= 26\n",
        "edu :str =\"BSCS\"\n",
        "\n",
        "card :str =\"\"\"\n",
        "PIAIC Student Card\n",
        "Student Name:\\t{}\n",
        "Father's Name:\\t{}\n",
        "Age:\\t{}\n",
        "Education:\\t{}\n",
        "\"\"\".format(name,fname,age,edu)\n",
        "\n",
        "print(card)"
      ],
      "metadata": {
        "colab": {
          "base_uri": "https://localhost:8080/"
        },
        "id": "fj6RKlGd-Lmk",
        "outputId": "27e613b9-8fdb-4e86-8f4e-e8f761aed77b"
      },
      "execution_count": 41,
      "outputs": [
        {
          "output_type": "stream",
          "name": "stdout",
          "text": [
            "\n",
            "PIAIC Student Card\n",
            "Student Name:\tUsman\n",
            "Father's Name:\tAshraf\n",
            "Age:\t26\n",
            "Education:\tBSCS\n",
            "\n"
          ]
        }
      ]
    },
    {
      "cell_type": "code",
      "source": [
        "name : str =\"Usman\"\n",
        "fname : str = \"Ashraf\"\n",
        "age :int= 26\n",
        "edu :str =\"BSCS\"\n",
        "\n",
        "card :str =\"\"\"\n",
        "PIAIC Student Card\n",
        "Student Name:\\t{}\n",
        "Father's Name:\\t{}\n",
        "Age:\\t{}\n",
        "Education:\\t{}\n",
        "\"\"\".format(edu,fname,name,age)\n",
        "\n",
        "print(card)"
      ],
      "metadata": {
        "colab": {
          "base_uri": "https://localhost:8080/"
        },
        "id": "gSg_PL84_BX4",
        "outputId": "8a1e185b-8212-47e7-b0da-59e24d846959"
      },
      "execution_count": 42,
      "outputs": [
        {
          "output_type": "stream",
          "name": "stdout",
          "text": [
            "\n",
            "PIAIC Student Card\n",
            "Student Name:\tBSCS\n",
            "Father's Name:\tAshraf\n",
            "Age:\tUsman\n",
            "Education:\t26\n",
            "\n"
          ]
        }
      ]
    },
    {
      "cell_type": "code",
      "source": [
        "name : str =\"Usman\"\n",
        "fname : str = \"Ashraf\"\n",
        "age :int= 26\n",
        "edu :str =\"BSCS\"\n",
        "\n",
        "card :str =\"\"\"\n",
        "PIAIC Student Card\n",
        "Student Name:\\t{2}\n",
        "Father's Name:\\t{1}\n",
        "Age:\\t{3}\n",
        "Education:\\t{0}\n",
        "\"\"\".format(edu,fname,name,age)\n",
        "\n",
        "print(card)"
      ],
      "metadata": {
        "colab": {
          "base_uri": "https://localhost:8080/"
        },
        "id": "rKAAaO0t_Rno",
        "outputId": "dc9397ef-c425-40b3-afb8-e52b369f9776"
      },
      "execution_count": 43,
      "outputs": [
        {
          "output_type": "stream",
          "name": "stdout",
          "text": [
            "\n",
            "PIAIC Student Card\n",
            "Student Name:\tUsman\n",
            "Father's Name:\tAshraf\n",
            "Age:\t26\n",
            "Education:\tBSCS\n",
            "\n"
          ]
        }
      ]
    },
    {
      "cell_type": "code",
      "source": [
        "#Recommended Method\n",
        "name : str =\"Usman\"\n",
        "fname : str = \"Ashraf\"\n",
        "age :int= 26\n",
        "edu :str =\"BSCS\"\n",
        "\n",
        "card :str =\"\"\"\n",
        "PIAIC Student Card\n",
        "Student Name:\\t{a}\n",
        "Father's Name:\\t{b}\n",
        "Age:\\t{c}\n",
        "Education:\\t{d}\n",
        "\"\"\".format(d=edu,b=fname,a=name,c=age)\n",
        "\n",
        "print(card)"
      ],
      "metadata": {
        "colab": {
          "base_uri": "https://localhost:8080/"
        },
        "id": "PzwTXOCW_cGs",
        "outputId": "aabe1656-9644-4a6b-b977-277c6845a51f"
      },
      "execution_count": 47,
      "outputs": [
        {
          "output_type": "stream",
          "name": "stdout",
          "text": [
            "\n",
            "PIAIC Student Card\n",
            "Student Name:\tUsman\n",
            "Father's Name:\tAshraf\n",
            "Age:\t26\n",
            "Education:\tBSCS\n",
            "\n"
          ]
        }
      ]
    },
    {
      "cell_type": "code",
      "source": [
        "#Old style , C convention\n",
        "\n",
        "name : str =\"Usman\"\n",
        "fname : str = \"Ashraf\"\n",
        "age :int= 26\n",
        "edu :str =\"BSCS\"\n",
        "\n",
        "card :str =\"\"\"\n",
        "PIAIC Student Card\n",
        "Student Name:\\t%s\n",
        "Father's Name:\\t%s\n",
        "Age:\\t%d\n",
        "Education:\\t%s\n",
        "\"\"\"%(name,fname,age,edu)\n",
        "\n",
        "print(card)"
      ],
      "metadata": {
        "colab": {
          "base_uri": "https://localhost:8080/"
        },
        "id": "o-IQjH9o_yzA",
        "outputId": "4356715f-3bd7-4db6-d384-e7f7e36b3ff3"
      },
      "execution_count": 49,
      "outputs": [
        {
          "output_type": "stream",
          "name": "stdout",
          "text": [
            "\n",
            "PIAIC Student Card\n",
            "Student Name:\tUsman\n",
            "Father's Name:\tAshraf\n",
            "Age:\t26\n",
            "Education:\tBSCS\n",
            "\n"
          ]
        }
      ]
    },
    {
      "cell_type": "code",
      "source": [
        "name : str =\"Usman\"\n",
        "fname : str = \"Ashraf\"\n",
        "age :int= 26\n",
        "edu :str =\"BSCS\"\n",
        "\n",
        "card :str =f\"\"\"\n",
        "PIAIC Student Card\n",
        "Student Name:\\t{name}\n",
        "Father's Name:\\t{fname}\n",
        "Age:\\t{age}\n",
        "Education:\\t{edu}\n",
        "Total:\\t{10+30/3*2}\n",
        "\"\"\"\n",
        "\n",
        "print(card)\n"
      ],
      "metadata": {
        "colab": {
          "base_uri": "https://localhost:8080/"
        },
        "id": "PTpEiaYeABC1",
        "outputId": "095f8874-66a4-44e8-ed11-06c618de30bb"
      },
      "execution_count": 50,
      "outputs": [
        {
          "output_type": "stream",
          "name": "stdout",
          "text": [
            "\n",
            "PIAIC Student Card\n",
            "Student Name:\tUsman\n",
            "Father's Name:\tAshraf\n",
            "Age:\t26\n",
            "Education:\tBSCS\n",
            "Total:\t30.0\n",
            "\n"
          ]
        }
      ]
    },
    {
      "cell_type": "code",
      "source": [
        "name :str =\"any string\"\n",
        "\n",
        "print(dir(name))"
      ],
      "metadata": {
        "colab": {
          "base_uri": "https://localhost:8080/"
        },
        "id": "SYF-2iQuBPqN",
        "outputId": "f61a03b9-374b-4d86-dffc-f3040b7fc63a"
      },
      "execution_count": 53,
      "outputs": [
        {
          "output_type": "stream",
          "name": "stdout",
          "text": [
            "['__add__', '__class__', '__contains__', '__delattr__', '__dir__', '__doc__', '__eq__', '__format__', '__ge__', '__getattribute__', '__getitem__', '__getnewargs__', '__gt__', '__hash__', '__init__', '__init_subclass__', '__iter__', '__le__', '__len__', '__lt__', '__mod__', '__mul__', '__ne__', '__new__', '__reduce__', '__reduce_ex__', '__repr__', '__rmod__', '__rmul__', '__setattr__', '__sizeof__', '__str__', '__subclasshook__', 'capitalize', 'casefold', 'center', 'count', 'encode', 'endswith', 'expandtabs', 'find', 'format', 'format_map', 'index', 'isalnum', 'isalpha', 'isascii', 'isdecimal', 'isdigit', 'isidentifier', 'islower', 'isnumeric', 'isprintable', 'isspace', 'istitle', 'isupper', 'join', 'ljust', 'lower', 'lstrip', 'maketrans', 'partition', 'removeprefix', 'removesuffix', 'replace', 'rfind', 'rindex', 'rjust', 'rpartition', 'rsplit', 'rstrip', 'split', 'splitlines', 'startswith', 'strip', 'swapcase', 'title', 'translate', 'upper', 'zfill']\n"
          ]
        }
      ]
    },
    {
      "cell_type": "code",
      "source": [
        "nostarch_url = 'https://nostarch.com'\n",
        "nostarch_url.removeprefix('https://')\n"
      ],
      "metadata": {
        "colab": {
          "base_uri": "https://localhost:8080/",
          "height": 36
        },
        "id": "gVgX4ZIAB_mJ",
        "outputId": "e4c28543-63bb-401e-d21f-e257f29352a5"
      },
      "execution_count": 57,
      "outputs": [
        {
          "output_type": "execute_result",
          "data": {
            "text/plain": [
              "'nostarch.com'"
            ],
            "application/vnd.google.colaboratory.intrinsic+json": {
              "type": "string"
            }
          },
          "metadata": {},
          "execution_count": 57
        }
      ]
    },
    {
      "cell_type": "code",
      "source": [
        "row: str = \"\"\" PIAIC-55500, PIAIC33944,\n",
        "We want to remove this\n",
        "prefix, so we can focus on just the part of the URL that users need to enter\n",
        "into an address bar PIAIC-34. Here’s how to do that:\n",
        " PIAIC33332,  Here’s are PIAIC-35544287327782 some more rollnumbers: PIAIC-35544,\n",
        "\"\"\"\n",
        "\n",
        "import re\n",
        "rollnumbers :list[str] =re.findall(\"PIAIC-?\\d{5,6}\",row)\n",
        "print(rollnumbers)\n"
      ],
      "metadata": {
        "colab": {
          "base_uri": "https://localhost:8080/"
        },
        "id": "sEoCpFKhB__E",
        "outputId": "15d7815d-81d8-4ef7-b6a8-44bab2a4a27f"
      },
      "execution_count": 60,
      "outputs": [
        {
          "output_type": "stream",
          "name": "stdout",
          "text": [
            "['PIAIC-55500', 'PIAIC33944', 'PIAIC33332', 'PIAIC-355442', 'PIAIC-35544']\n"
          ]
        }
      ]
    },
    {
      "cell_type": "code",
      "source": [
        "import pandas as pd\n",
        "df = pd.DataFrame({'Roll number':rollnumbers})"
      ],
      "metadata": {
        "id": "j5PyVa7KCbJX"
      },
      "execution_count": 61,
      "outputs": []
    },
    {
      "cell_type": "code",
      "source": [
        "df"
      ],
      "metadata": {
        "colab": {
          "base_uri": "https://localhost:8080/",
          "height": 206
        },
        "id": "Laa1ahWyEJlJ",
        "outputId": "6403c012-3481-4024-c2df-ce6cbf768f3b"
      },
      "execution_count": 62,
      "outputs": [
        {
          "output_type": "execute_result",
          "data": {
            "text/plain": [
              "    Roll number\n",
              "0   PIAIC-55500\n",
              "1    PIAIC33944\n",
              "2    PIAIC33332\n",
              "3  PIAIC-355442\n",
              "4   PIAIC-35544"
            ],
            "text/html": [
              "\n",
              "  <div id=\"df-5ef849bb-e647-4461-ae58-b1927e312390\" class=\"colab-df-container\">\n",
              "    <div>\n",
              "<style scoped>\n",
              "    .dataframe tbody tr th:only-of-type {\n",
              "        vertical-align: middle;\n",
              "    }\n",
              "\n",
              "    .dataframe tbody tr th {\n",
              "        vertical-align: top;\n",
              "    }\n",
              "\n",
              "    .dataframe thead th {\n",
              "        text-align: right;\n",
              "    }\n",
              "</style>\n",
              "<table border=\"1\" class=\"dataframe\">\n",
              "  <thead>\n",
              "    <tr style=\"text-align: right;\">\n",
              "      <th></th>\n",
              "      <th>Roll number</th>\n",
              "    </tr>\n",
              "  </thead>\n",
              "  <tbody>\n",
              "    <tr>\n",
              "      <th>0</th>\n",
              "      <td>PIAIC-55500</td>\n",
              "    </tr>\n",
              "    <tr>\n",
              "      <th>1</th>\n",
              "      <td>PIAIC33944</td>\n",
              "    </tr>\n",
              "    <tr>\n",
              "      <th>2</th>\n",
              "      <td>PIAIC33332</td>\n",
              "    </tr>\n",
              "    <tr>\n",
              "      <th>3</th>\n",
              "      <td>PIAIC-355442</td>\n",
              "    </tr>\n",
              "    <tr>\n",
              "      <th>4</th>\n",
              "      <td>PIAIC-35544</td>\n",
              "    </tr>\n",
              "  </tbody>\n",
              "</table>\n",
              "</div>\n",
              "    <div class=\"colab-df-buttons\">\n",
              "\n",
              "  <div class=\"colab-df-container\">\n",
              "    <button class=\"colab-df-convert\" onclick=\"convertToInteractive('df-5ef849bb-e647-4461-ae58-b1927e312390')\"\n",
              "            title=\"Convert this dataframe to an interactive table.\"\n",
              "            style=\"display:none;\">\n",
              "\n",
              "  <svg xmlns=\"http://www.w3.org/2000/svg\" height=\"24px\" viewBox=\"0 -960 960 960\">\n",
              "    <path d=\"M120-120v-720h720v720H120Zm60-500h600v-160H180v160Zm220 220h160v-160H400v160Zm0 220h160v-160H400v160ZM180-400h160v-160H180v160Zm440 0h160v-160H620v160ZM180-180h160v-160H180v160Zm440 0h160v-160H620v160Z\"/>\n",
              "  </svg>\n",
              "    </button>\n",
              "\n",
              "  <style>\n",
              "    .colab-df-container {\n",
              "      display:flex;\n",
              "      gap: 12px;\n",
              "    }\n",
              "\n",
              "    .colab-df-convert {\n",
              "      background-color: #E8F0FE;\n",
              "      border: none;\n",
              "      border-radius: 50%;\n",
              "      cursor: pointer;\n",
              "      display: none;\n",
              "      fill: #1967D2;\n",
              "      height: 32px;\n",
              "      padding: 0 0 0 0;\n",
              "      width: 32px;\n",
              "    }\n",
              "\n",
              "    .colab-df-convert:hover {\n",
              "      background-color: #E2EBFA;\n",
              "      box-shadow: 0px 1px 2px rgba(60, 64, 67, 0.3), 0px 1px 3px 1px rgba(60, 64, 67, 0.15);\n",
              "      fill: #174EA6;\n",
              "    }\n",
              "\n",
              "    .colab-df-buttons div {\n",
              "      margin-bottom: 4px;\n",
              "    }\n",
              "\n",
              "    [theme=dark] .colab-df-convert {\n",
              "      background-color: #3B4455;\n",
              "      fill: #D2E3FC;\n",
              "    }\n",
              "\n",
              "    [theme=dark] .colab-df-convert:hover {\n",
              "      background-color: #434B5C;\n",
              "      box-shadow: 0px 1px 3px 1px rgba(0, 0, 0, 0.15);\n",
              "      filter: drop-shadow(0px 1px 2px rgba(0, 0, 0, 0.3));\n",
              "      fill: #FFFFFF;\n",
              "    }\n",
              "  </style>\n",
              "\n",
              "    <script>\n",
              "      const buttonEl =\n",
              "        document.querySelector('#df-5ef849bb-e647-4461-ae58-b1927e312390 button.colab-df-convert');\n",
              "      buttonEl.style.display =\n",
              "        google.colab.kernel.accessAllowed ? 'block' : 'none';\n",
              "\n",
              "      async function convertToInteractive(key) {\n",
              "        const element = document.querySelector('#df-5ef849bb-e647-4461-ae58-b1927e312390');\n",
              "        const dataTable =\n",
              "          await google.colab.kernel.invokeFunction('convertToInteractive',\n",
              "                                                    [key], {});\n",
              "        if (!dataTable) return;\n",
              "\n",
              "        const docLinkHtml = 'Like what you see? Visit the ' +\n",
              "          '<a target=\"_blank\" href=https://colab.research.google.com/notebooks/data_table.ipynb>data table notebook</a>'\n",
              "          + ' to learn more about interactive tables.';\n",
              "        element.innerHTML = '';\n",
              "        dataTable['output_type'] = 'display_data';\n",
              "        await google.colab.output.renderOutput(dataTable, element);\n",
              "        const docLink = document.createElement('div');\n",
              "        docLink.innerHTML = docLinkHtml;\n",
              "        element.appendChild(docLink);\n",
              "      }\n",
              "    </script>\n",
              "  </div>\n",
              "\n",
              "\n",
              "<div id=\"df-d6079ea0-049d-44a0-9548-edef784565f6\">\n",
              "  <button class=\"colab-df-quickchart\" onclick=\"quickchart('df-d6079ea0-049d-44a0-9548-edef784565f6')\"\n",
              "            title=\"Suggest charts.\"\n",
              "            style=\"display:none;\">\n",
              "\n",
              "<svg xmlns=\"http://www.w3.org/2000/svg\" height=\"24px\"viewBox=\"0 0 24 24\"\n",
              "     width=\"24px\">\n",
              "    <g>\n",
              "        <path d=\"M19 3H5c-1.1 0-2 .9-2 2v14c0 1.1.9 2 2 2h14c1.1 0 2-.9 2-2V5c0-1.1-.9-2-2-2zM9 17H7v-7h2v7zm4 0h-2V7h2v10zm4 0h-2v-4h2v4z\"/>\n",
              "    </g>\n",
              "</svg>\n",
              "  </button>\n",
              "\n",
              "<style>\n",
              "  .colab-df-quickchart {\n",
              "      --bg-color: #E8F0FE;\n",
              "      --fill-color: #1967D2;\n",
              "      --hover-bg-color: #E2EBFA;\n",
              "      --hover-fill-color: #174EA6;\n",
              "      --disabled-fill-color: #AAA;\n",
              "      --disabled-bg-color: #DDD;\n",
              "  }\n",
              "\n",
              "  [theme=dark] .colab-df-quickchart {\n",
              "      --bg-color: #3B4455;\n",
              "      --fill-color: #D2E3FC;\n",
              "      --hover-bg-color: #434B5C;\n",
              "      --hover-fill-color: #FFFFFF;\n",
              "      --disabled-bg-color: #3B4455;\n",
              "      --disabled-fill-color: #666;\n",
              "  }\n",
              "\n",
              "  .colab-df-quickchart {\n",
              "    background-color: var(--bg-color);\n",
              "    border: none;\n",
              "    border-radius: 50%;\n",
              "    cursor: pointer;\n",
              "    display: none;\n",
              "    fill: var(--fill-color);\n",
              "    height: 32px;\n",
              "    padding: 0;\n",
              "    width: 32px;\n",
              "  }\n",
              "\n",
              "  .colab-df-quickchart:hover {\n",
              "    background-color: var(--hover-bg-color);\n",
              "    box-shadow: 0 1px 2px rgba(60, 64, 67, 0.3), 0 1px 3px 1px rgba(60, 64, 67, 0.15);\n",
              "    fill: var(--button-hover-fill-color);\n",
              "  }\n",
              "\n",
              "  .colab-df-quickchart-complete:disabled,\n",
              "  .colab-df-quickchart-complete:disabled:hover {\n",
              "    background-color: var(--disabled-bg-color);\n",
              "    fill: var(--disabled-fill-color);\n",
              "    box-shadow: none;\n",
              "  }\n",
              "\n",
              "  .colab-df-spinner {\n",
              "    border: 2px solid var(--fill-color);\n",
              "    border-color: transparent;\n",
              "    border-bottom-color: var(--fill-color);\n",
              "    animation:\n",
              "      spin 1s steps(1) infinite;\n",
              "  }\n",
              "\n",
              "  @keyframes spin {\n",
              "    0% {\n",
              "      border-color: transparent;\n",
              "      border-bottom-color: var(--fill-color);\n",
              "      border-left-color: var(--fill-color);\n",
              "    }\n",
              "    20% {\n",
              "      border-color: transparent;\n",
              "      border-left-color: var(--fill-color);\n",
              "      border-top-color: var(--fill-color);\n",
              "    }\n",
              "    30% {\n",
              "      border-color: transparent;\n",
              "      border-left-color: var(--fill-color);\n",
              "      border-top-color: var(--fill-color);\n",
              "      border-right-color: var(--fill-color);\n",
              "    }\n",
              "    40% {\n",
              "      border-color: transparent;\n",
              "      border-right-color: var(--fill-color);\n",
              "      border-top-color: var(--fill-color);\n",
              "    }\n",
              "    60% {\n",
              "      border-color: transparent;\n",
              "      border-right-color: var(--fill-color);\n",
              "    }\n",
              "    80% {\n",
              "      border-color: transparent;\n",
              "      border-right-color: var(--fill-color);\n",
              "      border-bottom-color: var(--fill-color);\n",
              "    }\n",
              "    90% {\n",
              "      border-color: transparent;\n",
              "      border-bottom-color: var(--fill-color);\n",
              "    }\n",
              "  }\n",
              "</style>\n",
              "\n",
              "  <script>\n",
              "    async function quickchart(key) {\n",
              "      const quickchartButtonEl =\n",
              "        document.querySelector('#' + key + ' button');\n",
              "      quickchartButtonEl.disabled = true;  // To prevent multiple clicks.\n",
              "      quickchartButtonEl.classList.add('colab-df-spinner');\n",
              "      try {\n",
              "        const charts = await google.colab.kernel.invokeFunction(\n",
              "            'suggestCharts', [key], {});\n",
              "      } catch (error) {\n",
              "        console.error('Error during call to suggestCharts:', error);\n",
              "      }\n",
              "      quickchartButtonEl.classList.remove('colab-df-spinner');\n",
              "      quickchartButtonEl.classList.add('colab-df-quickchart-complete');\n",
              "    }\n",
              "    (() => {\n",
              "      let quickchartButtonEl =\n",
              "        document.querySelector('#df-d6079ea0-049d-44a0-9548-edef784565f6 button');\n",
              "      quickchartButtonEl.style.display =\n",
              "        google.colab.kernel.accessAllowed ? 'block' : 'none';\n",
              "    })();\n",
              "  </script>\n",
              "</div>\n",
              "    </div>\n",
              "  </div>\n"
            ]
          },
          "metadata": {},
          "execution_count": 62
        }
      ]
    },
    {
      "cell_type": "code",
      "source": [
        "chatData :str =\"\"\"09:02:45 From Muhammad Sadullah = PIAIC-178950 To Everyone : Assalam O Alikum\n",
        "09:03:06 From PIAIC188523 - Subhan Ahmed To Everyone : waalikum assalam\n",
        "09:03:24 From Kashif To Everyone : Kashif - PIAIC181638\n",
        "09:03:36 From Syed Jawad [PIAIC185558] To Everyone : wa alikum assalam\n",
        "09:03:52 From Muhammad Sadullah = PIAIC-178950 To Everyone : Muhammad Sadullah = PIAIC-178950\n",
        "09:04:18 From Shahzaib To Everyone : sir assalam o alikum sir ya mari 3 class ha . jo class miss h gai ha wo kasa lo\n",
        "09:04:32 From ABDUL BASIT To Everyone : ABDUL BASIT PIAIC 59115\n",
        "09:04:38 From PIAIC183349 Muahhamd Waseem To Everyone : sir blockstructure sy start krna hy sir\n",
        "09:05:02 From Mohammad Javed To Everyone : Mohammad Javed\n",
        "PIAIC 185754\n",
        "09:05:06 From Humera Naz To Everyone : PIAIC 173431\n",
        "09:05:07 From Muhammad Saad To Everyone : Muhammad Saad - PIAIC172478\n",
        "09:05:21 From Sabir Zafar To Everyone : Muhammad Sabir Zafar PIAIC182023\n",
        "09:05:29 From Shahzaib To Everyone : Muhammad Shahzaib Iqbal\n",
        "09:05:34 From Sabir Zafar To Everyone : PIAIC182023\n",
        "09:05:37 From Mohammad Javed To Everyone : Assalamo Alykum to everyone\n",
        "09:06:04 From Shahzaib To Everyone : sir ya ap kia para raha ha\n",
        "09:06:10 From Usman Noor PIAIC-188401 To Everyone : Usman Noor PIAIC-188401\n",
        "09:06:31 From Amir Rashid To Everyone : aoa sir jee\n",
        "09:06:41 From Salman Nayyer To Everyone : PIAIC 180996\n",
        "09:06:42 From Usman Noor PIAIC-188401 To Everyone : yes\n",
        "09:06:44 From Moattar Khanum (PIAIC170982) To Everyone : Moattar Khanum - PIAIC170982\n",
        "09:07:06 From MUHAMMAD USMAN MANZOOR To Everyone : Muhammad Usman Manzoor128778\n",
        "09:07:56 From Syed Jawad [PIAIC185558] To Everyone : distortion ari h voice me\n",
        "09:08:03 From Zeeshan Asim : PIAIC55300 To Everyone : Zeeshan Asim Khan, PIAIC55300\n",
        "09:08:15 From Syed Jawad [PIAIC185558] To Everyone : loop\n",
        "09:08:32 From Kainat PIAIC182352 To Everyone : piaic 182352\n",
        "09:09:07 From Syed Jawad [PIAIC185558] To Everyone : PIAIC185558\n",
        "09:09:12 From Amir Rashid To Everyone : PIAIC107890\n",
        "09:09:15 From Victor PIAIC 177535 To Everyone : PIAIC 177535\n",
        "09:09:46 From Nasir Hussain (Faculty) To Everyone : https://www.youtube.com/watch?v=PNRVcBu2xE8&list=PLbz7HMwTUM0He95be_rlxc8GyDbek6xUu\n",
        "09:09:46 From Shoaib PIAIC-178354 To Everyone : Shoaib PIAIC178354\n",
        "09:10:07 From Muhammad Faizan PIAIC189427 To Everyone : PIAIC189427\n",
        "09:10:53 From Shoaib To Everyone : Muhammad Shoaib PIAIC130669\n",
        "09:13:14 From PIAIC183349 Muahhamd Waseem To Everyone : yes sir\n",
        "09:14:13 From Irtiza Khan [PIAIC 171375] To Everyone : Salam to all\n",
        "09:16:15 From PIAIC175331 To Everyone : PIAIC175331\n",
        "09:16:24 From Gulshan Ali To Everyone : Gulshan Ali PIAIC-176719\n",
        "09:16:34 From Sabir Zafar To Everyone : only youtube pay hy last lecture\n",
        "09:16:34 From Gulshan Ali To Everyone : PIAIC176719\n",
        "09:16:57 From Moeed Masood PIAIC185253 To Everyone : https://www.youtube.com/watch?v=XgRbgGQvGRk\n",
        "09:17:03 From Agha Ali PIAIC164763 To Everyone : PIAIC164763\n",
        "09:17:03 From Moeed Masood PIAIC185253 To Everyone : last lecture link\n",
        "09:17:14 From Ali Muawia To Everyone : PIAIC171658\n",
        "09:17:52 From Muhammed Shahid To Everyone : PIAIC134239 Muhammed Shahid\n",
        "09:18:55 From Sadia To Everyone : piaic180028\n",
        "09:19:14 From Abdul Saboor Zaman PIAIC189261 To Everyone : Abdul Saboor Zaman PIAIC189261\n",
        "09:19:15 From Abdullah Arif 129260 To Everyone : Abdullah Arif - PIAIC - 129260\n",
        "09:19:36 From Muhammad Athar PIAIC 174016 To Everyone : PIAIC 174016\n",
        "09:19:56 From Adnan Ul Haq (PIAIC-103786) To Everyone : Adnan Ul Haq (PIAIC-103786)\n",
        "09:20:38 From vivo 1901 To Everyone : PIAIC74287-Atif Aziz\n",
        "09:20:59 From Moeed Masood PIAIC185253 To Everyone : https://www.youtube.com/watch?v=e1OjskX1C6E&t=1098s\n",
        "09:21:05 From Moeed Masood PIAIC185253 To Everyone : last lecture link\n",
        "09:21:27 From PIAIC183349 Muahhamd Waseem To Everyone : yes sir\n",
        "09:21:33 From Home To Everyone : PIAIC172998\n",
        "09:22:02 From Home To Everyone : Muhammad Hammad PIAIC172998\n",
        "09:23:06 From Samina - PIAIC52499 To Everyone : Samina Anees - PIAIC52499\n",
        "09:23:11 From (PIAIC-189416) Muhammad Murtaza Khan To Everyone : Muhammad Murtaza Khan - PIAIC189416\n",
        "09:23:43 From Muhammad Farhan Ahsan PIAIC-168894 To Everyone : Muhammad Farhan Ahsan PIAIC-168894\n",
        "09:23:49 From Irtiza Khan [PIAIC 171375] To Everyone : PIAIC171375\n",
        "09:24:00 From Amna Liaqat PIAIC 133452 To Everyone : Amna Liaqat (PIAIC133452)\n",
        "09:24:01 From Ali Muawia To Everyone : PIAIC171658\n",
        "09:25:09 From Muhammad Naveed PIAIC133985 To Everyone : Muhammad Naveed PIAIC133985\n",
        "09:26:02 From Amir Rashid To Everyone : Amir Rashid PIAIC107890\n",
        "09:26:16 From Aneeq To Everyone : PIAIC172924 Aneeq Ahmad\n",
        "09:26:36 From kashif.parvez To Everyone : PIAIC101207 kashif\n",
        "09:27:14 From Rehman To Everyone : Abu Bakar PIAIC173652\n",
        "09:30:32 From Muhammad Adrees To Everyone : PIAIC74182\n",
        "09:32:20 From Salma Asif To Everyone : PIAIC176945\n",
        "09:33:05 From Zaki@PIAIC172541 To Everyone : PIAIC172541 Zaki\n",
        "09:33:37 From Khushbakht Hassan To Everyone : PIAIC180280\n",
        "09:33:55 From Yumna Fawad Moon To Everyone : PIAIC188727\n",
        "09:34:04 From Abdul Rafiu To Everyone : Abdul Rafiu PIAIC164489\n",
        "09:34:15 From Syed PIAIC168703 To Everyone : PIAIC 168703\n",
        "09:36:03 From Nadeem ali Jamro PIAIC166522 To Everyone : PIAIC 166522\n",
        "09:37:13 From Mohsin Naseer PIAIC68513 To Everyone : PIAIC68513\n",
        "09:37:41 From Syed Jawad [PIAIC185558] To Everyone : +=/++\n",
        "09:37:57 From Irfan Ahmed To Everyone : PIAIC172147\n",
        "09:38:12 From Syed Jawad [PIAIC185558] To Everyone : PIAIC 185558\n",
        "09:38:38 From Syed Jawad [PIAIC185558] To Everyone : no\n",
        "09:39:18 From Saeed To Everyone : PIAIC-131885\n",
        "09:44:14 From Muhammad’s iPhone To Everyone : Sorry sir i was praying fajr\n",
        "09:45:55 From PIAIC175139 naeem khan To Everyone : Is fajr time altered? 😏\n",
        "09:46:42 From Irtiza Khan [PIAIC 171375] To Everyone : Kaza bhe parhe ja sakte hay khan sb\n",
        "09:50:31 From Amir Rashid To Everyone : 0 - 255\n",
        "09:59:02 From Afnan 182978 To Everyone : Chalo Bhai😂\n",
        "10:00:41 From PIAIC175139 naeem khan To Everyone : barat aa gaye khana khul gaya\n",
        "10:07:43 From Syed Jawad [PIAIC185558] To Everyone : https://www.hackerrank.com/domains/python\n",
        "10:07:47 From Syed Jawad [PIAIC185558] To Everyone : for practic\n",
        "10:08:05 From Syed Jawad [PIAIC185558] To Everyone : practice*\n",
        "10:08:37 From Muhammad Mehroz To Everyone : attendance nahi hoi na abhe!\n",
        "10:08:50 From mehdi abbas To Everyone : nahi\n",
        "10:09:02 From waqas khan To Everyone : waqas khan PIAIC-185394\n",
        "10:09:32 From M Ali Asif Khan - PIAIC-57947 To Everyone : M Ali Asif Khan - PIAIC-57947\n",
        "10:09:40 From PIAIC173701_Taqwa Khaliq To Everyone : PIAIC173701 Taqwa Khaliq\n",
        "10:10:09 From PIAIC188523 To Everyone : PIAIC188523\n",
        "10:10:17 From Amir Rashid To Everyone : sorry\n",
        "10:10:31 From Muhammad’s iPhone To Everyone : PIAIC49583 Muhammad ali\n",
        "10:10:48 From Moeed Masood PIAIC185253 To Everyone : Moeed Masood PIAIC-185253\n",
        "10:11:34 From Noman Ali PIAIC 180111 To Everyone : PIAIC180111\n",
        "10:12:53 From Daud To Everyone : sooo sad\n",
        "10:13:03 From اسامه سلفى PIAIC91925 To Everyone : Usama Salafi PIAIC91925\n",
        "10:13:09 From Samsung SM-A325F To Everyone : PIAIC178248\n",
        "10:13:10 From PIAIC 175167 To Everyone : PIAIC 175167\n",
        "10:13:19 From Farhan-PIAIC186218 To Everyone : Farhan PIAIC186218\n",
        "10:13:24 From Muhammad Mehroz To Everyone : PIAIC131496\n",
        "10:13:27 From Aahil Khowaja PIAIC 175761 BATCH 36 To Everyone : PIAIC 175761\n",
        "10:13:29 From Maaz-PIAIC182239 To Everyone : PIAIC182239\n",
        "10:13:32 From Syed Sajjad Hussain PIAIC152592 To Everyone : Syed sajjad Hussain PIAIC152592\n",
        "10:13:36 From Muhammad Arslan PIAIC183812 To Everyone : PIAIC 183812\n",
        "10:13:38 From 133544-Matee To Everyone : PIAIC 133544 Matee\n",
        "10:13:44 From Saad Aslam To Everyone : Saad Aslam PIAIC1878\n",
        "10:13:49 From Bilal Chaudhry(PIAIC176168) To Everyone : PIAIC176168\n",
        "10:13:50 From Amna Liaqat PIAIC 133452 To Everyone : Amna Liaqat PIAIC133452\n",
        "10:13:54 From Syed Amir PIAIC128409 To Everyone : Syed Amir Rehman PIAIC128409\n",
        "10:13:55 From Amna Liaqat PIAIC 133452 To Everyone : PIAIC 133452\n",
        "10:13:56 From Mashal Zahra To Everyone : PIAIC178751\n",
        "10:14:01 From Asim sharif(PIAIC172797) To Everyone : PIAIC 172797\n",
        "10:14:01 From M. ADNAN SAEED PIAIC174751 To Everyone : PIAIC174751\n",
        "10:14:03 From 185099 Murtaza To Everyone : PIAIC 185099\n",
        "10:14:03 From SadafMansoor 84989 To Everyone : PIAIC84989\n",
        "10:14:14 From Saad Aslam To Everyone : Saad Aslam PIAIC187831\n",
        "10:14:57 From Kabeer Alam (132619) To Everyone : PIAIC132619\n",
        "10:15:11 From Ayesha Qamar To Everyone : PIAIC185674\n",
        "10:15:28 From Naeem Sultan - 116704 To Everyone : PIAIC 116704\n",
        "10:15:33 From Shazia Mushtaq To Everyone : PIAIC176880\n",
        "10:15:52 From LENOVO To Everyone : PIAIC151960\n",
        "10:17:30 From Maha Ilyas 2874 To Everyone : PIAIC 177982\n",
        "10:17:49 From Ali Raza To Everyone : PIAIC 62922\n",
        "10:18:33 From Nehal To Everyone : PIAIC182641\n",
        "10:18:46 From Muhammad Saad To Everyone : PIAIC172478\n",
        "10:18:49 From Syed Jawad [PIAIC185558] To Everyone : PIAIC185558\n",
        "10:18:49 From SafeerAhmad 139339 To Everyone : SafeerAhmad-PIAIC139339\n",
        "10:19:01 From SafeerAhmad 139339 To Everyone : PIAIC139339\n",
        "10:19:15 From Kabeer Rajput To Everyone : attendance hogai?\n",
        "10:19:35 From Owais Khattak To Everyone : PIAIC139392\n",
        "10:19:40 From Musa Abkr To Everyone : PIAIC116498\n",
        "10:19:54 From Imran Ahmed To Everyone : Imran Ahmed PIAIC95846\n",
        "10:21:03 From fozia shareen To Everyone : PIAIC 165097 FOZIA\n",
        "10:22:16 From Aisha Siddiqua To Everyone : PIAIC181221\n",
        "10:22:49 From Maha Zia To Everyone : Maha Zia piaic172238\n",
        "10:24:12 From Ureb Ahmad To Everyone : PIAIC-172235\n",
        "10:25:10 From Umer Ghaffar PIAIC184298 To Everyone : PIAIC184298\n",
        "10:27:01 From PIAIC 174016 To Everyone : PIAIC 174016\n",
        "10:27:07 From PIAIC 174016 To Everyone : present\n",
        "10:28:41 From Syed Jawad [PIAIC185558] To Everyone : g\n",
        "10:31:06 From Afnan 182978 To Everyone : PIAIC 182978\n",
        "10:31:15 From PIAIC 99685 To Everyone : PIAIC-99685\n",
        "10:31:18 From PIAIC 99685 To Everyone : present\n",
        "10:31:28 From Syed PIAIC168703 To Everyone : I is key\n",
        "10:31:39 From Syed PIAIC168703 To Everyone : i*i is respective vaalue\n",
        "10:36:11 From Sehrish Fatima-PIAIC To Everyone : PIAIC-174229\n",
        "10:38:18 From A.Rahman PIAIC150034 To Everyone : piaic 150034\n",
        "10:38:24 From Arshad To Everyone : PIAIC-168092\n",
        "10:39:36 From Sheeraz To Everyone : PIAIC 132123\n",
        "10:41:27 From PIAIC175139 naeem khan To Everyone : PIAIC175139\n",
        "10:42:09 From SafeerAhmad 139339 To Everyone : PIAIC-139339\n",
        "10:42:39 From Moattar Khanum (PIAIC170982) To Everyone : pyramid example\n",
        "10:42:59 From Fareeha To Everyone : PIAIC142650\n",
        "10:44:02 From Shehzad Anjum 185122 To Everyone : please use \\t in first seperate\n",
        "10:44:05 From Moattar Khanum (PIAIC170982) To Everyone : *      * * *    * * * * *  * * * * * * ** * * * * * * * *\n",
        "10:44:33 From Muhammad Junaid Hussain-PIAIC187530 To Everyone : Muhammad Junaid Hussain- PIAIC187530\n",
        "10:48:18 From Ahmad Mudassar PIAIC113830 To Everyone : Ahmad Mudassar\n",
        "10:48:28 From Ahmad Mudassar PIAIC113830 To Everyone : Ahmad Mudassar PIAIC113830\n",
        "10:49:12 From Umer Ghaffar PIAIC184298 To Everyone : PIAIC184298\n",
        "10:52:46 From Cashif 143001 To Everyone : Kashif Mahmood Khan PIAIC 143001\n",
        "10:53:10 From Muhammad Hawaris To Everyone : Muhammad Hawaris PIAIC188433\n",
        "10:55:48 From (PIAIC-189416) Muhammad Murtaza Khan To Everyone : PIAIC189416\n",
        "10:57:03 From Aneeq Mughal To Everyone : Aneeq Ali Mughal PIAIC170928\n",
        "10:57:28 From Humera Naz To Everyone : SIR is end also a function name?\n",
        "10:57:41 From Muhammad Sadullah = PIAIC-178950 To Everyone : Muhammad Sadullah = PIAIC-178950\n",
        "10:57:47 From Syed Jawad [PIAIC185558] To Everyone : https://www.hackerrank.com/domains/python\n",
        "10:57:56 From Syed Jawad [PIAIC185558] To Everyone : is me practice kr sakte h\n",
        "10:59:22 From Nasir Hussain (Faculty) To Everyone : https://classroom.google.com/c/NTM2OTg1MzExNTUw?cjc=kowtvgm\n",
        "11:00:22 From Homesaira mehmood To Everyone : http://www.asmarterwaytolearn.com/python/index-of-exercises.html\n",
        "11:00:51 From Imaad ud din Motan To Everyone : audio lag\n",
        "11:03:35 From Salman Nayyer To Everyone : Sir row ki bajay col bhi ho saktya hai\n",
        "11:06:17 From Shehzad Anjum 185122 To Everyone : that is for javascript\n",
        "11:06:38 From asghar ibraheem baloch CNC-012105 To Everyone : metaverse\n",
        "11:10:17 From Abdul Saboor Zaman PIAIC189261 To Everyone : Abdul\n",
        "11:10:26 From Abdul Saboor Zaman PIAIC189261 To Everyone : Abdul Saboor Zaman PIAIC189261\n",
        "11:10:27 From PIAIC175139 naeem khan To Everyone : PIAIC175139\n",
        "11:10:50 From Afnan 182978 To Everyone : break\n",
        "11:11:01 From Homesaira mehmood To Everyone : PIAIC-176439\n",
        "11:11:07 From mehdi abbas To Everyone : break\n",
        "11:11:08 From Abdul Saboor Zaman PIAIC189261 To Everyone : break\n",
        "11:11:09 From Syed PIAIC168703 To Everyone : BREAK\n",
        "11:11:11 From Sehrish Fatima-PIAIC To Everyone : break\n",
        "11:11:11 From (PIAIC-189416) Muhammad Murtaza Khan To Everyone : BREAKKKKKK\n",
        "11:11:11 From Muhammad Sadullah = PIAIC-178950 To Everyone : NO BREAK\n",
        "11:11:12 From Zia (PIAIC121514) To Everyone : nO BREAK\n",
        "11:11:13 From Rehman To Everyone : no break\n",
        "11:11:14 From Afnan 182978 To Everyone : jisko ni chai vo apse me discus Karen tooic\n",
        "11:11:14 From vivo 1901 To Everyone : break\n",
        "11:11:14 From Muhammad Farhan Ahsan PIAIC-168894 To Everyone : break\n",
        "11:11:15 From Adnan Ul Haq (PIAIC-103786) To Everyone : Break\n",
        "11:11:15 From MUHAMMAD USMAN MANZOOR To Everyone : Break\n",
        "11:11:15 From Taqwa Khaliq To Everyone : break\n",
        "11:11:15 From 185099 Murtaza To Everyone : No break\n",
        "11:11:16 From Muhammad Adrees To Everyone : No break\n",
        "11:11:16 From Salman Nayyer To Everyone : no break\n",
        "11:11:17 From Afnan 182978 To Everyone : break\n",
        "11:11:17 From Sadia To Everyone : break\n",
        "11:11:18 From Daud To Everyone : no break\n",
        "11:11:18 From Muhammad Talha PIAIC174047 To Everyone : Break\n",
        "11:11:19 From Kabeer Rajput To Everyone : no break\n",
        "11:11:19 From Irfan Ahmed - (PIAIC178547) To Everyone : nobreak\n",
        "11:11:19 From Aisha Siddiqua To Everyone : break\n",
        "11:11:19 From mehdi abbas To Everyone : breakkkkkkkkkkkkkkkkkkkkkkkkkkkkkkk\n",
        "11:11:21 From Muhammad Sadullah = PIAIC-178950 To Everyone : NOBREAK\n",
        "11:11:21 From Jawad Ahmed PIAIC96020 To Everyone : break\n",
        "11:11:21 From Moeed Masood PIAIC185253 To Everyone : nobreak\n",
        "11:11:21 From Rehman To Everyone : nobreak\n",
        "11:11:21 From Maaz-PIAIC182239 To Everyone : no break\n",
        "11:11:21 From Homesaira mehmood To Everyone : nobreak\n",
        "11:11:22 From Muhammad Shahid-AIC005259 To Everyone : NoBreak\n",
        "11:11:22 From Imran Khalid PIAIC185636 To Everyone : Break\n",
        "11:11:22 From Wardah(PIAIC172641) To Everyone : NOBREAK\n",
        "11:11:23 From Syed PIAIC168703 To Everyone : break\n",
        "11:11:23 From Ali Azam-PIAIC66597 To Everyone : nobreak\n",
        "11:11:23 From Junaid Ali Bhatti To Everyone : nobreak\n",
        "11:11:24 From cz 3 To Everyone : nobreak\n",
        "11:11:24 From Muhammad Faizan To Everyone : break\n",
        "11:11:24 From Ashraf Makhdoom Syed To Everyone : nobreak\n",
        "11:11:25 From Taqwa Khaliq To Everyone : break\n",
        "11:11:25 From Daud To Everyone : no break\n",
        "11:11:25 From Yousaf-173795 To Everyone : break\n",
        "11:11:25 From HaiderAli-PIAIC179345 To Everyone : nobreak\n",
        "11:11:26 From Aisha Siddiqua To Everyone : break\n",
        "11:11:26 From PIAIC175139 naeem khan To Everyone : nobreak\n",
        "11:11:26 From Maaz-PIAIC182239 To Everyone : nobreak\n",
        "11:11:26 From SafeerAhmad 139339 To Everyone : nobreak\n",
        "11:11:27 From Syed Jawad [PIAIC185558] To Everyone : break\n",
        "11:11:27 From (PIAIC-189416) Muhammad Murtaza Khan To Everyone : BREAK\n",
        "11:11:27 From Maah Noor PIAIC168751 To Everyone : nobreak\n",
        "11:11:27 From Muhammad Atif [PIAIC 139458] To Everyone : Nobreak\n",
        "11:11:28 From Muhammad Adrees To Everyone : nobreak\n",
        "11:11:28 From Amna Liaqat PIAIC 133452 To Everyone : Nobreak\n",
        "11:11:28 From Fazal Abbas To Everyone : Nobreak\n",
        "11:11:29 From MUHAMMAD USMAN MANZOOR To Everyone : Break\n",
        "11:11:29 From SafeerAhmad 139339 To Everyone : nobreak\n",
        "11:11:29 From Abdul-Husnain To Everyone : break\n",
        "11:11:29 From Zeeshan Asim : PIAIC55300 To Everyone : NoBreak\n",
        "11:11:29 From Usman Noor PIAIC-188401 To Everyone : nobreak\n",
        "11:11:30 From Maha Ilyas 2874 To Everyone : BREAK\n",
        "11:11:30 From 185099 Murtaza To Everyone : Nobreak\n",
        "11:11:30 From Zeenat Zakir: Piaic 133802 To Everyone : nobreak\n",
        "11:11:30 From Dr.Bhagwan Das To Everyone : No Break\n",
        "11:11:30 From Salma Asif To Everyone : nobreak\n",
        "11:11:31 From Khurshed Anwar-PIAIC-157450 To Everyone : break\n",
        "11:11:31 From Agha Ali PIAIC164763 To Everyone : nobreak\n",
        "11:11:31 From PIAIC175139 naeem khan To Everyone : nobreak\n",
        "11:11:31 From Afnan 182978 To Everyone : break\n",
        "11:11:32 From Aisha Siddiqua To Everyone : break\n",
        "11:11:32 From Kabeer Rajput To Everyone : nobreak\n",
        "11:11:33 From Home To Everyone : Nobreak\n",
        "11:11:33 From ALI ISMAIL HUSSAIN To Everyone : break\n",
        "11:11:33 From Amir Rashid To Everyone : nobreak\n",
        "11:11:33 From SafeerAhmad 139339 To Everyone : nobreak\n",
        "11:11:33 From Muhammad Faizan To Everyone : break\n",
        "11:11:33 From 185099 Murtaza To Everyone : Nobreak\n",
        "11:11:34 From Musa Abkr To Everyone : nobreak\n",
        "11:11:34 From Ali Asar To Everyone : nobreak\n",
        "11:11:34 From Moeed Masood PIAIC185253 To Everyone : nobreak\n",
        "11:11:35 From Muhammad Sadullah = PIAIC-178950 To Everyone : NOBREAK\n",
        "11:11:35 From MUHAMMAD USMAN MANZOOR To Everyone : Break\n",
        "11:11:36 From Muhammad Talha PIAIC174047 To Everyone : break\n",
        "11:11:36 From PIAIC183349 Muahhamd Waseem To Everyone : Break\n",
        "11:11:36 From Moattar Khanum (PIAIC170982) To Everyone : Nobreak\n",
        "11:11:36 From Maaz-PIAIC182239 To Everyone : nobreak\n",
        "11:11:37 From Muhammad Talha PIAIC174047 To Everyone : break\n",
        "11:11:38 From اسامه سلفى PIAIC91925 To Everyone : nobreak\n",
        "11:11:38 From Muhammad Talha PIAIC174047 To Everyone : brea\n",
        "11:11:39 From Zia (PIAIC121514) To Everyone : NoBREAK\n",
        "11:11:39 From Muhammed.Shahid To Everyone : nobreak\n",
        "11:11:39 From asghar ibraheem baloch CNC-012105 To Everyone : nobreak\n",
        "11:11:40 From SafeerAhmad 139339 To Everyone : nobreak\n",
        "11:11:40 From Saeed To Everyone : break or no break\n",
        "11:11:40 From Muhammad Talha PIAIC174047 To Everyone : break\n",
        "11:11:40 From Muhammad Mehroz To Everyone : break\n",
        "11:11:40 From Majid Naru PIAIC-187644 To Everyone : nobreak\n",
        "11:11:41 From PIAIC187118 Muhammad  Imran Wali To Everyone : nobreak\n",
        "11:11:41 From Syed Amir PIAIC128409 To Everyone : nobreak\n",
        "11:11:42 From MUHAMMAD USMAN MANZOOR To Everyone : Break\n",
        "11:11:42 From (PIAIC-189416) Muhammad Murtaza Khan To Everyone : BREAK\n",
        "11:11:43 From mehdi abbas To Everyone : breakkkkkkuuuuuuu\n",
        "11:11:44 From Muhammad Talha PIAIC174047 To Everyone : break\n",
        "11:11:44 From Daud To Everyone : no break\n",
        "11:11:45 From Agha Ali PIAIC164763 To Everyone : nobreak\n",
        "11:11:46 From Gulshan Ali To Everyone : break\n",
        "11:11:46 From SafeerAhmad 139339 To Everyone : Nobreak\n",
        "11:11:46 From Imaad ud din Motan To Everyone : nobreak\n",
        "11:11:47 From Aisha Siddiqua To Everyone : break\n",
        "11:11:47 From fozia shareen To Everyone : NO Break\n",
        "11:11:47 From Muhammad Furqan To Everyone : nobreak\n",
        "11:11:47 From Home To Everyone : nobreak\n",
        "11:11:48 From PIAIC183349 Muahhamd Waseem To Everyone : Break\n",
        "11:11:48 From Shahzaib To Everyone : break\n",
        "11:11:48 From PIAIC (188172) Ahmed To Everyone : nobreak\n",
        "11:11:48 From Syed Jawad [PIAIC185558] To Everyone : break\n",
        "11:11:49 From Shahzaib To Everyone : break\n",
        "11:11:49 From Dr.Bhagwan Das To Everyone : NoBreak\n",
        "11:11:49 From Shahzaib To Everyone : break\n",
        "11:11:49 From Syed Sajjad Hussain PIAIC152592 To Everyone : nobreAK\n",
        "11:11:50 From Shahzaib To Everyone : break\n",
        "11:11:50 From Shahzaib To Everyone : break\n",
        "11:11:50 From Zia (PIAIC121514) To Everyone : NoBreak\n",
        "11:11:50 From Shahzaib To Everyone : break\n",
        "11:11:50 From Muhammad Talha PIAIC174047 To Everyone : break\n",
        "11:11:51 From Shahzaib To Everyone : break\n",
        "11:11:51 From Shoaib Ahmed Khan (PIAIC159833) To Everyone : nobreak\n",
        "11:11:51 From Shahzaib To Everyone : break\n",
        "11:11:51 From Shahzaib To Everyone : break\n",
        "11:11:52 From Shahzaib To Everyone : break\n",
        "11:11:52 From Majid Naru PIAIC-187644 To Everyone : nobreak\n",
        "11:11:52 From Shahzaib To Everyone : break\n",
        "11:11:52 From Muhammad Talha PIAIC174047 To Everyone : break\n",
        "11:11:52 From Mohammad Javed To Everyone : Break\n",
        "11:11:52 From Shahzaib To Everyone : break\n",
        "11:11:53 From Shahzaib To Everyone : break\n",
        "11:11:53 From MUHAMMAD USMAN MANZOOR To Everyone : Break\n",
        "11:11:53 From Shahzaib To Everyone : break\n",
        "11:11:53 From Daud To Everyone : nobreak\n",
        "11:11:53 From Shahzaib To Everyone : break\n",
        "11:11:54 From Shahzaib To Everyone : break\n",
        "11:11:54 From Shahzaib To Everyone : break\n",
        "11:11:55 From MUHAMMAD USMAN MANZOOR To Everyone : Break\n",
        "11:11:55 From Muhammad Talha PIAIC174047 To Everyone : break\n",
        "11:11:55 From Abdul Saboor Zaman PIAIC189261 To Everyone : break\n",
        "11:11:56 From Majid Naru PIAIC-187644 To Everyone : nobreak\n",
        "11:11:56 From 185099 Murtaza To Everyone : Nobreak\n",
        "11:11:56 From Muhammad Furqan To Everyone : nobreak\n",
        "11:11:57 From SafeerAhmad 139339 To Everyone : Nobreak\n",
        "11:11:57 From Shoaib Ahmed Khan (PIAIC159833) To Everyone : nobreak\n",
        "11:11:57 From Taqwa Khaliq To Everyone : break\n",
        "11:11:59 From Zia (PIAIC121514) To Everyone : Nobreak\n",
        "11:12:00 From Junaid Yusuf To Everyone : nobreak\n",
        "11:12:00 From Muhammad Faizan To Everyone : break\n",
        "11:12:02 From PIAIC (188172) Ahmed To Everyone : nobreak\n",
        "11:12:02 From Afnan 182978 To Everyone : break\n",
        "11:12:04 From Home To Everyone : nobreak\n",
        "11:12:06 From Muhammad Talha PIAIC174047 To Everyone : Break\n",
        "11:12:07 From Irtiza Khan [PIAIC 171375] To Everyone : NObreak\n",
        "11:12:12 From Muhammad Faizan To Everyone : break\n",
        "11:12:16 From M. ADNAN SAEED PIAIC174751 To Everyone : break\n",
        "11:12:17 From Muhammad Furqan To Everyone : nobreak\n",
        "11:12:24 From Zia (PIAIC121514) To Everyone : Sir ya file share kr dyn\n",
        "11:12:40 From Saeed To Everyone : at 12 I have to go for another class\n",
        "11:12:41 From Amir Rashid To Everyone : ok\n",
        "11:12:57 From PIAIC183349 Muahhamd Waseem To Everyone : PIAIC183349\n",
        "11:13:03 From Saeed To Everyone : please take attendance at 11:45\n",
        "11:13:04 From Gulshan Ali To Everyone : take a cup tea\n",
        "11:14:52 From Ali Muawia To Everyone : PIAIC 171658\n",
        "11:14:58 From Amir Rashid To Everyone : python crash book share please\n",
        "11:16:57 From Agha Ali PIAIC164763 To Everyone : please share python crash book in chat\n",
        "11:17:21 From Zohaib Ahmed To Everyone : PIAIC176190\n",
        "11:17:27 From Adnan Ul Haq (PIAIC-103786) To Everyone : Google class room code plz\n",
        "11:17:56 From Zia (PIAIC121514) To Everyone : https://classroom.google.com/c/NTM2OTg1MzExNTUw?cjc=kowtvgm\n",
        "11:18:27 From Amir Rashid To Everyone : python 1000 tasks url share\n",
        "11:19:29 From asghar ibraheem baloch CNC-012105 To Everyone : competition\n",
        "11:19:52 From Muhammad Naveed PIAIC133985 To Everyone : Muhammad Naveed PIAIC133985\n",
        "11:20:13 From Moattar Khanum (PIAIC170982) To Everyone : https://pynative.com/python-exercises-with-solutions/\n",
        "11:20:15 From sohaib PIAIC67260 To Everyone : www.kaggle.com\n",
        "11:20:40 From Moattar Khanum (PIAIC170982) To Everyone : best practice for python\n",
        "11:20:44 From Moattar Khanum (PIAIC170982) To Everyone : https://pynative.com/python-exercises-with-solutions/\n",
        "11:21:06 From Umer Ghaffar PIAIC184298 To Everyone : https://classroom.google.com/c/NTM2OTg1MzExNTUw\n",
        "11:21:47 From Umer Ghaffar PIAIC184298 To Everyone : PIAIC184298\n",
        "11:21:55 From asghar ibraheem baloch CNC-012105 To Everyone : time hogya hy\n",
        "11:22:09 From 02. M Awais Mushtaq Sec A To Everyone : M Awais Mushtaq PIAIC183887\n",
        "11:22:23 From ASIF ALI (A.I) To Everyone : ASIF ALIPIAIC 183730\n",
        "11:22:33 From Kabeer Rajput To Everyone : PIAIC-133488\n",
        "11:22:43 From Ali Azam-PIAIC66597 To Everyone : Ali AzamPIAIC66597\n",
        "11:22:43 From asghar ibraheem baloch CNC-012105 To Everyone : CNC012105\n",
        "11:22:49 From Neelum Javaid PIAIC172527 To Everyone : Neelum Javaid PIAIC-172527\n",
        "11:22:51 From Haseeb Iqbal- PIAIC 180144 To Everyone : Haseeb Iqbal PIAIC 180144\n",
        "11:22:54 From Maah Noor PIAIC168751 To Everyone : maahnoor PIAIC168751\n",
        "11:22:57 From Humera Naz To Everyone : humera naz 173431\n",
        "11:22:57 From Muhammad Furqan(PIAIC183270) To Everyone : PIAIC183270\n",
        "11:23:00 From Irfan Ahmed - (PIAIC178547) To Everyone : PIAIC178547\n",
        "11:23:03 From Muhammad Furqan(PIAIC183270) To Everyone : PIAIC183270\n",
        "11:23:04 From Adnan Ul Haq (PIAIC-103786) To Everyone : Google class code??\n",
        "11:23:05 From Noman Ali PIAIC 180111 To Everyone : Noman Ali PIAIC180111\n",
        "11:23:08 From Jawad Ahmed PIAIC96020 To Everyone : jawad Ahmed piaic96020\n",
        "11:23:08 From Muhammad Saad To Everyone : Muhammad Saad PIAIC172478\n",
        "11:23:12 From asghar ibraheem baloch CNC-012105 To Everyone : asghar ibraheem balochCNC012105\n",
        "11:23:14 From sohaib PIAIC67260 To Everyone : Sohaib Baseer Ahmad PIAIC67260\n",
        "11:23:17 From Muhammad Furqan(PIAIC183270) To Everyone : PIAIC183270\n",
        "11:23:17 From Irtiza Khan [PIAIC 171375] To Everyone : PIAIC171375\n",
        "11:23:19 From PIAIC (188172) Ahmed To Everyone : Ahmed Hassan PIAIC188172\n",
        "11:23:22 From Qadeer Ahmed - 163577 To Everyone : PIAIC163577\n",
        "11:23:30 From Hammad Ahmad To Everyone : PIAIC172695\n",
        "11:23:37 From Mashal Zahra To Everyone : PIAIC178751\n",
        "11:23:47 From Muhammad Raed Zaman Siddiqui To Everyone : Muhammad Raed Zaman Siddiqui  PIAIC176697\n",
        "11:23:57 From Fazal Abbas To Everyone : PIAIC182763\n",
        "11:24:00 From Muhammad Athar PIAIC 174016 To Everyone : MuhammadAthar  PIAIC174016\n",
        "11:24:01 From Sadia To Everyone : piaic180028\n",
        "11:24:02 From Aisha Siddiqua To Everyone : Aisha Siddiqua piaic181221\n",
        "11:24:22 From Dr.Bhagwan Das To Everyone : Bhagwan Das PIAIC96879\n",
        "11:24:39 From Umer Ghaffar PIAIC184298 To Everyone : Umer Ghaffar PIAIC184298\n",
        "11:24:41 From PIAIC95349 Ali To Everyone : Syed Muhammad Ali Rizvi PIAIC95349\n",
        "11:24:47 From Umer Ghaffar PIAIC184298 To Everyone : PIAIC184298\n",
        "11:24:49 From Zeeshan Latif To Everyone : https://www.kaggle.com/zeeshanlatif\n",
        "11:24:50 From Junaid Ali Bhatti To Everyone : Junaid Ali Bhatti PIAIC174125\n",
        "11:24:51 From Mohsin Naseer PIAIC68513 To Everyone : sir last week ki video upload ho gye?\n",
        "11:24:54 From Victor PIAIC 177535 To Everyone : PIAIC177535\n",
        "11:25:05 From Imaad ud din Motan To Everyone : PIAIC91698\n",
        "11:25:07 From sarimeffendi To Everyone : PIAIC188720\n",
        "11:25:07 From Ali Asar To Everyone : PIAIC187258\n",
        "11:25:50 From Dr.Bhagwan Das To Everyone : PIAIC96879\n",
        "11:25:53 From Muhammad Shahid-AIC005259 To Everyone : PIAIC005259\n",
        "11:25:55 From Ali Muawia To Everyone : PIAIC171658\n",
        "11:26:07 From Saeed To Everyone : PIAIC131885\n",
        "11:26:07 From Zeenat Zakir: Piaic 133802 To Everyone : PIAIC133802\n",
        "11:26:44 From Agha Ali PIAIC164763 To Everyone : PIAIC164763\n",
        "11:26:44 From Noman Ali PIAIC 180111 To Everyone : PIAIC180111\n",
        "11:26:57 From Usman Noor PIAIC-188401 To Everyone : PIAIC-188401\n",
        "11:27:01 From Ali Raza 62922 To Everyone : PIAIC 62922\n",
        "11:27:26 From Shoaib Ahmed Khan (PIAIC159833) To Everyone : kowtvgm\n",
        "11:28:08 From Shoaib Ahmed Khan (PIAIC159833) To Everyone : PIAIC159833\n",
        "11:29:09 From SafeerAhmad 139339 To Everyone : JO kr rhye ho wo to phly kr lo agye ki pahri hoi ha\n",
        "11:29:10 From Amir Rashid To Everyone : PIAIC107890\n",
        "11:29:24 From Agha Ali PIAIC164763 To Everyone : sir mute all and continue the lecture.\n",
        "11:30:06 From Irfan Ahmed To Everyone : PIAIC172147\n",
        "11:30:10 From cz 3 To Everyone : PIAIC125164\n",
        "11:31:39 From HaiderAli-PIAIC179345 To Everyone : PIAIC179345\n",
        "11:32:02 From Wardah(PIAIC172641) To Everyone : Wardah(PIAIC172641)\n",
        "11:32:17 From Umer Ghaffar PIAIC184298 To Everyone : PIAIC184298\n",
        "11:32:33 From PIAIC123437 To Everyone : can anyone send google class room link\n",
        "11:33:34 From Wajid khan To Everyone : PIAIC181896\n",
        "11:33:52 From Amna Farrukh To Everyone : PIAIC149493\n",
        "11:34:25 From Faisal Zohaib To Everyone : PIAIC169528\n",
        "11:34:35 From Salma Asif To Everyone : PIAIC176945\n",
        "11:34:35 From Irfan Ahmed - (PIAIC178547) To Everyone : Empty block\n",
        "11:34:37 From Faisal Zohaib To Everyone : AIC-169528\n",
        "11:35:32 From Khurshed Anwar-PIAIC-157450 To Everyone : PIAIC157450\n",
        "11:35:44 From Amna Liaqat PIAIC 133452 To Everyone : PIAIC133452\n",
        "11:36:09 From Amna Liaqat PIAIC 133452 To Everyone : Class, attendance tou nahin hoi? I was away for 5 minutes.7\n",
        "11:36:18 From Nasrullah (PIAIC 180162) To Everyone : PIAIC-180162\n",
        "11:36:34 From vivo 1901 To Everyone : PIAIC74287 Atif Aziz\n",
        "11:36:52 From Samina - PIAIC52499 To Everyone : PIAIC52499\n",
        "11:36:53 From Saeed To Everyone : sir attendane layalain to leave at 12:00\n",
        "11:37:10 From mehdi abbas To Everyone : in the presence of pass the line needs to be pass at any cost.\n",
        "11:40:59 From Syed Jawad [PIAIC185558] To Everyone : PIAIC185558\n",
        "11:41:02 From Taqwa Khaliq To Everyone : PIAIC173701\n",
        "11:41:04 From sarimeffendi To Everyone : PIAIC188720\n",
        "11:41:06 From Ahmad Mudassar PIAIC113830 To Everyone : PIAIC113830\n",
        "11:41:07 From Junaid Ali Bhatti To Everyone : PIAIC174125\n",
        "11:41:08 From HuzaifaTahir PIAIC-60925 To Everyone : PIAIC60925\n",
        "11:41:10 From Salman Nayyer To Everyone : PIAIC180996\n",
        "11:41:11 From Muhammad Furqan(PIAIC183270) To Everyone : PIAIC183270\n",
        "11:41:11 From Aisha Siddiqua To Everyone : PIAIC181221\n",
        "11:41:12 From vivo 1901 To Everyone : PIAIC74287\n",
        "11:41:12 From Humera Naz To Everyone : PIAIC173431\n",
        "11:41:13 From Ali Azam-PIAIC66597 To Everyone : PIAIC66597\n",
        "11:41:13 From Salma Asif To Everyone : PIAIC176945\n",
        "11:41:15 From 02. M Awais Mushtaq Sec A To Everyone : PIAIC183887\n",
        "11:41:16 From Irtiza Khan [PIAIC 171375] To Everyone : PIAIC171375\n",
        "11:41:17 From Kabeer Rajput To Everyone : PIAIC133488\n",
        "11:41:17 From Muhammad Farhan Ahsan PIAIC-168894 To Everyone : PIAIC168894\n",
        "11:41:18 From Usman Noor PIAIC-188401 To Everyone : PIAIC188401\n",
        "11:41:19 From Moattar Khanum (PIAIC170982) To Everyone : PIAIC170982\n",
        "11:41:19 From MUHAMMAD USMAN MANZOOR To Everyone : PIAIC128778Muhammad Usman Manzoor\n",
        "11:41:20 From PIAIC188523 To Everyone : PIAIC188523\n",
        "11:41:20 From M. ADNAN SAEED PIAIC174751 To Everyone : PIAIC174751\n",
        "11:41:20 From Amir PIAIC128409 To Everyone : PIAIC128409\n",
        "11:41:21 From Irfan Ahmed - (PIAIC178547) To Everyone : PIAIC178547\n",
        "11:41:22 From Ali Asar To Everyone : PIAIC187258\n",
        "11:41:22 From (PIAIC-189416) Muhammad Murtaza Khan To Everyone : PIAIC189416\n",
        "11:41:22 From HaiderAli-PIAIC179345 To Everyone : PIAIC179345\n",
        "11:41:24 From PIAIC 175167 To Everyone : PIAIC175167\n",
        "11:41:24 From Zaki@PIAIC172541 To Everyone : PIAIC172541\n",
        "11:41:24 From Muhammad Adrees To Everyone : PIAIC74182\n",
        "11:41:25 From ALI ISMAIL HUSSAIN To Everyone : IOT048687\n",
        "11:41:27 From PIAIC (188172) Ahmed To Everyone : PIAIC188172\n",
        "11:41:28 From Mashal Zahra To Everyone : PIAIC178751\n",
        "11:41:28 From Moattar Khanum (PIAIC170982) To Everyone : PIAIC170982\n",
        "11:41:28 From Yousaf-173795 To Everyone : PIAIC173795\n",
        "11:41:28 From Dr.Bhagwan Das To Everyone : PIAIC96879\n",
        "11:41:29 From Amir Rashid To Everyone : PIAIC107890\n",
        "11:41:29 From Samina - PIAIC52499 To Everyone : PIAIC52499\n",
        "11:41:31 From PIAIC183349 Muahhamd Waseem To Everyone : PIAIC183349\n",
        "11:41:32 From Cashif 143001 To Everyone : PIAIC-143001\n",
        "11:41:33 From Wardah(PIAIC172641) To Everyone : PIAIC172641\n",
        "11:41:35 From Gulshan Ali To Everyone : PIAIC176719\n",
        "11:41:35 From Ashraf Makhdoom Syed To Everyone : Syed Makhdoom Ahmed Ashraf = PIAIC155482\n",
        "11:41:36 From 133544-Matee To Everyone : PIAIC133544\n",
        "11:41:38 From cz 3 To Everyone : PIAIC125164\n",
        "11:41:38 From Sehrish Fatima-PIAIC To Everyone : PIAIC-174229\n",
        "11:41:39 From Qadeer Ahmed - 163577 To Everyone : PIAIC163577\n",
        "11:41:39 From ASIF ALI (A.I) To Everyone : PIAIC183730\n",
        "11:41:40 From Majid Naru PIAIC-187644 To Everyone : PIAIC187644\n",
        "11:41:40 From Khurshed Anwar-PIAIC-157450 To Everyone : PIAIC157450\n",
        "11:41:40 From Samsung SM-A325F To Everyone : PIAIC178248\n",
        "11:41:40 From PIAIC95349 Ali To Everyone : PIAIC95349\n",
        "11:41:42 From Homesaira mehmood To Everyone : PIAIC176439\n",
        "11:41:47 From Shoaib Ahmed Khan (PIAIC159833) To Everyone : PIAIC159833\n",
        "11:41:47 From Mohsin Naseer PIAIC68513 To Everyone : PIAIC68513\n",
        "11:41:48 From Syed Sajjad Hussain PIAIC152592 To Everyone : PIAIC152592\n",
        "11:41:51 From Muhammad Hawaris To Everyone : PIAIC188433\n",
        "11:41:57 From Nasrullah (PIAIC 180162) To Everyone : PIAIC180162\n",
        "11:41:58 From Home To Everyone : PIAIC172998\n",
        "11:41:58 From Sabir Zafar To Everyone : PIAIC182023\n",
        "11:41:58 From PIAIC187118 Muhammad  Imran Wali To Everyone : PIAIC187118\n",
        "11:42:00 From Ali Raza 62922 To Everyone : PIAIC62922\n",
        "11:42:04 From Maha Ilyas 2874 To Everyone : PIAIC177982\n",
        "11:42:04 From Ayesha Qamar To Everyone : PIAIC185674\n",
        "11:42:05 From Umer Ghaffar PIAIC184298 To Everyone : PIAIC184298\n",
        "11:42:05 From Sehrish Fatima-PIAIC To Everyone : PIAIC174229\n",
        "11:42:05 From Irfan Ahmed To Everyone : PIAIC172147\n",
        "11:42:06 From Saad PIAIC174416 To Everyone : PIAIC174416\n",
        "11:42:08 From Agha Ali PIAIC164763 To Everyone : PIAIC164763\n",
        "11:42:09 From Maaz-PIAIC182239 To Everyone : PIAIC182239\n",
        "11:42:11 From Dr.Bhagwan Das To Everyone : PIAIC96879\n",
        "11:42:11 From Wajeeha Ayaz To Everyone : PUAIC175646\n",
        "11:42:12 From Amna Farrukh To Everyone : PIAIC149493\n",
        "11:42:14 From Moeed Masood PIAIC185253 To Everyone : Moeed Masood PIAIC185253\n",
        "11:42:15 From اسامه سلفى PIAIC91925 To Everyone : piaic91925\n",
        "11:42:16 From Muhammad Shahid-AIC005259 To Everyone : PAIC005259\n",
        "11:42:17 From Muhammad Saad To Everyone : PIAIC172478\n",
        "11:42:17 From Fareeha To Everyone : PIAIC142650\n",
        "11:42:19 From Neelum Javaid PIAIC172527 To Everyone : PIAIC172527\n",
        "11:42:21 From ABDUL BASIT To Everyone : PIAIC59115\n",
        "11:42:22 From Usama Rehman To Everyone : PIAIC171408\n",
        "11:42:22 From Sadia To Everyone : piaic180028\n",
        "11:42:23 From Muhammad Mehroz To Everyone : PIAIC131496\n",
        "11:42:23 From Irfan Ahmed PIAIC183459 To Everyone : PIAIC183459\n",
        "11:42:23 From fozia shareen To Everyone : piaic165097\n",
        "11:42:23 From Wajeeha Ayaz To Everyone : PIAIC175646\n",
        "11:42:24 From LENOVO To Everyone : PIAIC151960\n",
        "11:42:24 From Jawad Ahmed PIAIC96020 To Everyone : jawad Ahmed piaic 96020\n",
        "11:42:25 From PIAIC 132123 To Everyone : PIAIC 132123\n",
        "11:42:26 From Hamza-PC To Everyone : PIAIC55486\n",
        "11:42:26 From Muhammad Naveed PIAIC133985 To Everyone : Muhammad Naveed PIAIC133985\n",
        "11:42:27 From sohaib PIAIC67260 To Everyone : PIAIC67260\n",
        "11:42:27 From Syed Sajjad Hussain PIAIC152592 To Everyone : PIAIC152592\n",
        "11:42:27 From Imran Ahmed To Everyone : Imran Ahmed PIAIC95846\n",
        "11:42:30 From Nabeel SHAHAB  (PIAIC185213) To Everyone : PIAIC185213\n",
        "11:42:31 From Muhammad Mehroz To Everyone : PIAIC131496\n",
        "11:42:33 From Muhammad Naveed PIAIC133985 To Everyone : PIAIC133985\n",
        "11:42:36 From Muhammad Shahid-AIC005259 To Everyone : PIAIC005259\n",
        "11:42:40 From Aisha Siddiqua To Everyone : PIAIC181221\n",
        "11:42:44 From Mohammad Javed To Everyone : PIAIC185754\n",
        "11:42:45 From Zeenat Zakir: Piaic 133802 To Everyone : PIAIC133802\n",
        "11:42:45 From Asim sharif(PIAIC172797) To Everyone : PIAIC172797\n",
        "11:42:48 From Rehman To Everyone : PIAIC173652\n",
        "11:42:57 From Jawad Ahmed PIAIC96020 To Everyone : PIAIC96020\n",
        "11:42:59 From SHEHZAD PIAIC180057 To Everyone : PIAIC180057\n",
        "11:43:01 From LENOVO To Everyone : PIAIC151960\n",
        "11:43:08 From Abdul Qadar To Everyone : PIAIC172941\n",
        "11:43:09 From Noman Ali PIAIC 180111 To Everyone : PIAIC180111\n",
        "11:43:15 From 185099 Murtaza To Everyone : PIAIC185099\n",
        "11:43:15 From Muhammad Athar PIAIC 174016 To Everyone : PIAIC174016\n",
        "11:43:24 From Abdul Saboor Zaman PIAIC189261 To Everyone : PIAIC189261\n",
        "11:43:24 From اسامه سلفى PIAIC91925 To Everyone : PIAIC91925\n",
        "11:43:39 From SadafMansoor 84989 To Everyone : PIAIC94989\n",
        "11:43:46 From Kainat PIAIC182352 To Everyone : PIAIC 182352\n",
        "11:43:47 From Neelum Javaid PIAIC172527 To Everyone : PIAIC172527\n",
        "11:43:47 From Zeeshan Latif To Everyone : PIAIC171445\n",
        "11:43:54 From Abdul Rehman Shafiq To Everyone : PIAIC172525\n",
        "11:43:54 From Ahmed Sohail To Everyone : PIAIC186252\"\"\"\n",
        "\n",
        "data = re.findall(\"(\\d{2}:\\d{2}:\\d{2}) From (.+) To Everyone : (PIAIC-? ?\\d{5,6})\",chatData)\n",
        "\n",
        "data\n"
      ],
      "metadata": {
        "colab": {
          "base_uri": "https://localhost:8080/"
        },
        "id": "tpSc68pHEKeE",
        "outputId": "bb808458-dddd-4061-ff67-c1eabeeece1f"
      },
      "execution_count": 67,
      "outputs": [
        {
          "output_type": "execute_result",
          "data": {
            "text/plain": [
              "[('09:05:06', 'Humera Naz', 'PIAIC 173431'),\n",
              " ('09:05:34', 'Sabir Zafar', 'PIAIC182023'),\n",
              " ('09:06:41', 'Salman Nayyer', 'PIAIC 180996'),\n",
              " ('09:09:07', 'Syed Jawad [PIAIC185558]', 'PIAIC185558'),\n",
              " ('09:09:12', 'Amir Rashid', 'PIAIC107890'),\n",
              " ('09:09:15', 'Victor PIAIC 177535', 'PIAIC 177535'),\n",
              " ('09:10:07', 'Muhammad Faizan PIAIC189427', 'PIAIC189427'),\n",
              " ('09:16:15', 'PIAIC175331', 'PIAIC175331'),\n",
              " ('09:16:34', 'Gulshan Ali', 'PIAIC176719'),\n",
              " ('09:17:03', 'Agha Ali PIAIC164763', 'PIAIC164763'),\n",
              " ('09:17:14', 'Ali Muawia', 'PIAIC171658'),\n",
              " ('09:17:52', 'Muhammed Shahid', 'PIAIC134239'),\n",
              " ('09:19:36', 'Muhammad Athar PIAIC 174016', 'PIAIC 174016'),\n",
              " ('09:20:38', 'vivo 1901', 'PIAIC74287'),\n",
              " ('09:21:33', 'Home', 'PIAIC172998'),\n",
              " ('09:23:49', 'Irtiza Khan [PIAIC 171375]', 'PIAIC171375'),\n",
              " ('09:24:01', 'Ali Muawia', 'PIAIC171658'),\n",
              " ('09:26:16', 'Aneeq', 'PIAIC172924'),\n",
              " ('09:26:36', 'kashif.parvez', 'PIAIC101207'),\n",
              " ('09:30:32', 'Muhammad Adrees', 'PIAIC74182'),\n",
              " ('09:32:20', 'Salma Asif', 'PIAIC176945'),\n",
              " ('09:33:05', 'Zaki@PIAIC172541', 'PIAIC172541'),\n",
              " ('09:33:37', 'Khushbakht Hassan', 'PIAIC180280'),\n",
              " ('09:33:55', 'Yumna Fawad Moon', 'PIAIC188727'),\n",
              " ('09:34:15', 'Syed PIAIC168703', 'PIAIC 168703'),\n",
              " ('09:36:03', 'Nadeem ali Jamro PIAIC166522', 'PIAIC 166522'),\n",
              " ('09:37:13', 'Mohsin Naseer PIAIC68513', 'PIAIC68513'),\n",
              " ('09:37:57', 'Irfan Ahmed', 'PIAIC172147'),\n",
              " ('09:38:12', 'Syed Jawad [PIAIC185558]', 'PIAIC 185558'),\n",
              " ('09:39:18', 'Saeed', 'PIAIC-131885'),\n",
              " ('10:09:40', 'PIAIC173701_Taqwa Khaliq', 'PIAIC173701'),\n",
              " ('10:10:09', 'PIAIC188523', 'PIAIC188523'),\n",
              " ('10:10:31', 'Muhammad’s iPhone', 'PIAIC49583'),\n",
              " ('10:11:34', 'Noman Ali PIAIC 180111', 'PIAIC180111'),\n",
              " ('10:13:09', 'Samsung SM-A325F', 'PIAIC178248'),\n",
              " ('10:13:10', 'PIAIC 175167', 'PIAIC 175167'),\n",
              " ('10:13:24', 'Muhammad Mehroz', 'PIAIC131496'),\n",
              " ('10:13:27', 'Aahil Khowaja PIAIC 175761 BATCH 36', 'PIAIC 175761'),\n",
              " ('10:13:29', 'Maaz-PIAIC182239', 'PIAIC182239'),\n",
              " ('10:13:36', 'Muhammad Arslan PIAIC183812', 'PIAIC 183812'),\n",
              " ('10:13:38', '133544-Matee', 'PIAIC 133544'),\n",
              " ('10:13:49', 'Bilal Chaudhry(PIAIC176168)', 'PIAIC176168'),\n",
              " ('10:13:55', 'Amna Liaqat PIAIC 133452', 'PIAIC 133452'),\n",
              " ('10:13:56', 'Mashal Zahra', 'PIAIC178751'),\n",
              " ('10:14:01', 'Asim sharif(PIAIC172797)', 'PIAIC 172797'),\n",
              " ('10:14:01', 'M. ADNAN SAEED PIAIC174751', 'PIAIC174751'),\n",
              " ('10:14:03', '185099 Murtaza', 'PIAIC 185099'),\n",
              " ('10:14:03', 'SadafMansoor 84989', 'PIAIC84989'),\n",
              " ('10:14:57', 'Kabeer Alam (132619)', 'PIAIC132619'),\n",
              " ('10:15:11', 'Ayesha Qamar', 'PIAIC185674'),\n",
              " ('10:15:28', 'Naeem Sultan - 116704', 'PIAIC 116704'),\n",
              " ('10:15:33', 'Shazia Mushtaq', 'PIAIC176880'),\n",
              " ('10:15:52', 'LENOVO', 'PIAIC151960'),\n",
              " ('10:17:30', 'Maha Ilyas 2874', 'PIAIC 177982'),\n",
              " ('10:17:49', 'Ali Raza', 'PIAIC 62922'),\n",
              " ('10:18:33', 'Nehal', 'PIAIC182641'),\n",
              " ('10:18:46', 'Muhammad Saad', 'PIAIC172478'),\n",
              " ('10:18:49', 'Syed Jawad [PIAIC185558]', 'PIAIC185558'),\n",
              " ('10:19:01', 'SafeerAhmad 139339', 'PIAIC139339'),\n",
              " ('10:19:35', 'Owais Khattak', 'PIAIC139392'),\n",
              " ('10:19:40', 'Musa Abkr', 'PIAIC116498'),\n",
              " ('10:21:03', 'fozia shareen', 'PIAIC 165097'),\n",
              " ('10:22:16', 'Aisha Siddiqua', 'PIAIC181221'),\n",
              " ('10:24:12', 'Ureb Ahmad', 'PIAIC-172235'),\n",
              " ('10:25:10', 'Umer Ghaffar PIAIC184298', 'PIAIC184298'),\n",
              " ('10:27:01', 'PIAIC 174016', 'PIAIC 174016'),\n",
              " ('10:31:06', 'Afnan 182978', 'PIAIC 182978'),\n",
              " ('10:31:15', 'PIAIC 99685', 'PIAIC-99685'),\n",
              " ('10:36:11', 'Sehrish Fatima-PIAIC', 'PIAIC-174229'),\n",
              " ('10:38:24', 'Arshad', 'PIAIC-168092'),\n",
              " ('10:39:36', 'Sheeraz', 'PIAIC 132123'),\n",
              " ('10:41:27', 'PIAIC175139 naeem khan', 'PIAIC175139'),\n",
              " ('10:42:09', 'SafeerAhmad 139339', 'PIAIC-139339'),\n",
              " ('10:42:59', 'Fareeha', 'PIAIC142650'),\n",
              " ('10:49:12', 'Umer Ghaffar PIAIC184298', 'PIAIC184298'),\n",
              " ('10:55:48', '(PIAIC-189416) Muhammad Murtaza Khan', 'PIAIC189416'),\n",
              " ('11:10:27', 'PIAIC175139 naeem khan', 'PIAIC175139'),\n",
              " ('11:11:01', 'Homesaira mehmood', 'PIAIC-176439'),\n",
              " ('11:12:57', 'PIAIC183349 Muahhamd Waseem', 'PIAIC183349'),\n",
              " ('11:14:52', 'Ali Muawia', 'PIAIC 171658'),\n",
              " ('11:17:21', 'Zohaib Ahmed', 'PIAIC176190'),\n",
              " ('11:21:47', 'Umer Ghaffar PIAIC184298', 'PIAIC184298'),\n",
              " ('11:22:33', 'Kabeer Rajput', 'PIAIC-133488'),\n",
              " ('11:22:57', 'Muhammad Furqan(PIAIC183270)', 'PIAIC183270'),\n",
              " ('11:23:00', 'Irfan Ahmed - (PIAIC178547)', 'PIAIC178547'),\n",
              " ('11:23:03', 'Muhammad Furqan(PIAIC183270)', 'PIAIC183270'),\n",
              " ('11:23:17', 'Muhammad Furqan(PIAIC183270)', 'PIAIC183270'),\n",
              " ('11:23:17', 'Irtiza Khan [PIAIC 171375]', 'PIAIC171375'),\n",
              " ('11:23:22', 'Qadeer Ahmed - 163577', 'PIAIC163577'),\n",
              " ('11:23:30', 'Hammad Ahmad', 'PIAIC172695'),\n",
              " ('11:23:37', 'Mashal Zahra', 'PIAIC178751'),\n",
              " ('11:23:57', 'Fazal Abbas', 'PIAIC182763'),\n",
              " ('11:24:47', 'Umer Ghaffar PIAIC184298', 'PIAIC184298'),\n",
              " ('11:24:54', 'Victor PIAIC 177535', 'PIAIC177535'),\n",
              " ('11:25:05', 'Imaad ud din Motan', 'PIAIC91698'),\n",
              " ('11:25:07', 'sarimeffendi', 'PIAIC188720'),\n",
              " ('11:25:07', 'Ali Asar', 'PIAIC187258'),\n",
              " ('11:25:50', 'Dr.Bhagwan Das', 'PIAIC96879'),\n",
              " ('11:25:53', 'Muhammad Shahid-AIC005259', 'PIAIC005259'),\n",
              " ('11:25:55', 'Ali Muawia', 'PIAIC171658'),\n",
              " ('11:26:07', 'Saeed', 'PIAIC131885'),\n",
              " ('11:26:07', 'Zeenat Zakir: Piaic 133802', 'PIAIC133802'),\n",
              " ('11:26:44', 'Agha Ali PIAIC164763', 'PIAIC164763'),\n",
              " ('11:26:44', 'Noman Ali PIAIC 180111', 'PIAIC180111'),\n",
              " ('11:26:57', 'Usman Noor PIAIC-188401', 'PIAIC-188401'),\n",
              " ('11:27:01', 'Ali Raza 62922', 'PIAIC 62922'),\n",
              " ('11:28:08', 'Shoaib Ahmed Khan (PIAIC159833)', 'PIAIC159833'),\n",
              " ('11:29:10', 'Amir Rashid', 'PIAIC107890'),\n",
              " ('11:30:06', 'Irfan Ahmed', 'PIAIC172147'),\n",
              " ('11:30:10', 'cz 3', 'PIAIC125164'),\n",
              " ('11:31:39', 'HaiderAli-PIAIC179345', 'PIAIC179345'),\n",
              " ('11:32:17', 'Umer Ghaffar PIAIC184298', 'PIAIC184298'),\n",
              " ('11:33:34', 'Wajid khan', 'PIAIC181896'),\n",
              " ('11:33:52', 'Amna Farrukh', 'PIAIC149493'),\n",
              " ('11:34:25', 'Faisal Zohaib', 'PIAIC169528'),\n",
              " ('11:34:35', 'Salma Asif', 'PIAIC176945'),\n",
              " ('11:35:32', 'Khurshed Anwar-PIAIC-157450', 'PIAIC157450'),\n",
              " ('11:35:44', 'Amna Liaqat PIAIC 133452', 'PIAIC133452'),\n",
              " ('11:36:18', 'Nasrullah (PIAIC 180162)', 'PIAIC-180162'),\n",
              " ('11:36:34', 'vivo 1901', 'PIAIC74287'),\n",
              " ('11:36:52', 'Samina - PIAIC52499', 'PIAIC52499'),\n",
              " ('11:40:59', 'Syed Jawad [PIAIC185558]', 'PIAIC185558'),\n",
              " ('11:41:02', 'Taqwa Khaliq', 'PIAIC173701'),\n",
              " ('11:41:04', 'sarimeffendi', 'PIAIC188720'),\n",
              " ('11:41:06', 'Ahmad Mudassar PIAIC113830', 'PIAIC113830'),\n",
              " ('11:41:07', 'Junaid Ali Bhatti', 'PIAIC174125'),\n",
              " ('11:41:08', 'HuzaifaTahir PIAIC-60925', 'PIAIC60925'),\n",
              " ('11:41:10', 'Salman Nayyer', 'PIAIC180996'),\n",
              " ('11:41:11', 'Muhammad Furqan(PIAIC183270)', 'PIAIC183270'),\n",
              " ('11:41:11', 'Aisha Siddiqua', 'PIAIC181221'),\n",
              " ('11:41:12', 'vivo 1901', 'PIAIC74287'),\n",
              " ('11:41:12', 'Humera Naz', 'PIAIC173431'),\n",
              " ('11:41:13', 'Ali Azam-PIAIC66597', 'PIAIC66597'),\n",
              " ('11:41:13', 'Salma Asif', 'PIAIC176945'),\n",
              " ('11:41:15', '02. M Awais Mushtaq Sec A', 'PIAIC183887'),\n",
              " ('11:41:16', 'Irtiza Khan [PIAIC 171375]', 'PIAIC171375'),\n",
              " ('11:41:17', 'Kabeer Rajput', 'PIAIC133488'),\n",
              " ('11:41:17', 'Muhammad Farhan Ahsan PIAIC-168894', 'PIAIC168894'),\n",
              " ('11:41:18', 'Usman Noor PIAIC-188401', 'PIAIC188401'),\n",
              " ('11:41:19', 'Moattar Khanum (PIAIC170982)', 'PIAIC170982'),\n",
              " ('11:41:19', 'MUHAMMAD USMAN MANZOOR', 'PIAIC128778'),\n",
              " ('11:41:20', 'PIAIC188523', 'PIAIC188523'),\n",
              " ('11:41:20', 'M. ADNAN SAEED PIAIC174751', 'PIAIC174751'),\n",
              " ('11:41:20', 'Amir PIAIC128409', 'PIAIC128409'),\n",
              " ('11:41:21', 'Irfan Ahmed - (PIAIC178547)', 'PIAIC178547'),\n",
              " ('11:41:22', 'Ali Asar', 'PIAIC187258'),\n",
              " ('11:41:22', '(PIAIC-189416) Muhammad Murtaza Khan', 'PIAIC189416'),\n",
              " ('11:41:22', 'HaiderAli-PIAIC179345', 'PIAIC179345'),\n",
              " ('11:41:24', 'PIAIC 175167', 'PIAIC175167'),\n",
              " ('11:41:24', 'Zaki@PIAIC172541', 'PIAIC172541'),\n",
              " ('11:41:24', 'Muhammad Adrees', 'PIAIC74182'),\n",
              " ('11:41:27', 'PIAIC (188172) Ahmed', 'PIAIC188172'),\n",
              " ('11:41:28', 'Mashal Zahra', 'PIAIC178751'),\n",
              " ('11:41:28', 'Moattar Khanum (PIAIC170982)', 'PIAIC170982'),\n",
              " ('11:41:28', 'Yousaf-173795', 'PIAIC173795'),\n",
              " ('11:41:28', 'Dr.Bhagwan Das', 'PIAIC96879'),\n",
              " ('11:41:29', 'Amir Rashid', 'PIAIC107890'),\n",
              " ('11:41:29', 'Samina - PIAIC52499', 'PIAIC52499'),\n",
              " ('11:41:31', 'PIAIC183349 Muahhamd Waseem', 'PIAIC183349'),\n",
              " ('11:41:32', 'Cashif 143001', 'PIAIC-143001'),\n",
              " ('11:41:33', 'Wardah(PIAIC172641)', 'PIAIC172641'),\n",
              " ('11:41:35', 'Gulshan Ali', 'PIAIC176719'),\n",
              " ('11:41:36', '133544-Matee', 'PIAIC133544'),\n",
              " ('11:41:38', 'cz 3', 'PIAIC125164'),\n",
              " ('11:41:38', 'Sehrish Fatima-PIAIC', 'PIAIC-174229'),\n",
              " ('11:41:39', 'Qadeer Ahmed - 163577', 'PIAIC163577'),\n",
              " ('11:41:39', 'ASIF ALI (A.I)', 'PIAIC183730'),\n",
              " ('11:41:40', 'Majid Naru PIAIC-187644', 'PIAIC187644'),\n",
              " ('11:41:40', 'Khurshed Anwar-PIAIC-157450', 'PIAIC157450'),\n",
              " ('11:41:40', 'Samsung SM-A325F', 'PIAIC178248'),\n",
              " ('11:41:40', 'PIAIC95349 Ali', 'PIAIC95349'),\n",
              " ('11:41:42', 'Homesaira mehmood', 'PIAIC176439'),\n",
              " ('11:41:47', 'Shoaib Ahmed Khan (PIAIC159833)', 'PIAIC159833'),\n",
              " ('11:41:47', 'Mohsin Naseer PIAIC68513', 'PIAIC68513'),\n",
              " ('11:41:48', 'Syed Sajjad Hussain PIAIC152592', 'PIAIC152592'),\n",
              " ('11:41:51', 'Muhammad Hawaris', 'PIAIC188433'),\n",
              " ('11:41:57', 'Nasrullah (PIAIC 180162)', 'PIAIC180162'),\n",
              " ('11:41:58', 'Home', 'PIAIC172998'),\n",
              " ('11:41:58', 'Sabir Zafar', 'PIAIC182023'),\n",
              " ('11:41:58', 'PIAIC187118 Muhammad  Imran Wali', 'PIAIC187118'),\n",
              " ('11:42:00', 'Ali Raza 62922', 'PIAIC62922'),\n",
              " ('11:42:04', 'Maha Ilyas 2874', 'PIAIC177982'),\n",
              " ('11:42:04', 'Ayesha Qamar', 'PIAIC185674'),\n",
              " ('11:42:05', 'Umer Ghaffar PIAIC184298', 'PIAIC184298'),\n",
              " ('11:42:05', 'Sehrish Fatima-PIAIC', 'PIAIC174229'),\n",
              " ('11:42:05', 'Irfan Ahmed', 'PIAIC172147'),\n",
              " ('11:42:06', 'Saad PIAIC174416', 'PIAIC174416'),\n",
              " ('11:42:08', 'Agha Ali PIAIC164763', 'PIAIC164763'),\n",
              " ('11:42:09', 'Maaz-PIAIC182239', 'PIAIC182239'),\n",
              " ('11:42:11', 'Dr.Bhagwan Das', 'PIAIC96879'),\n",
              " ('11:42:12', 'Amna Farrukh', 'PIAIC149493'),\n",
              " ('11:42:17', 'Muhammad Saad', 'PIAIC172478'),\n",
              " ('11:42:17', 'Fareeha', 'PIAIC142650'),\n",
              " ('11:42:19', 'Neelum Javaid PIAIC172527', 'PIAIC172527'),\n",
              " ('11:42:21', 'ABDUL BASIT', 'PIAIC59115'),\n",
              " ('11:42:22', 'Usama Rehman', 'PIAIC171408'),\n",
              " ('11:42:23', 'Muhammad Mehroz', 'PIAIC131496'),\n",
              " ('11:42:23', 'Irfan Ahmed PIAIC183459', 'PIAIC183459'),\n",
              " ('11:42:23', 'Wajeeha Ayaz', 'PIAIC175646'),\n",
              " ('11:42:24', 'LENOVO', 'PIAIC151960'),\n",
              " ('11:42:25', 'PIAIC 132123', 'PIAIC 132123'),\n",
              " ('11:42:26', 'Hamza-PC', 'PIAIC55486'),\n",
              " ('11:42:27', 'sohaib PIAIC67260', 'PIAIC67260'),\n",
              " ('11:42:27', 'Syed Sajjad Hussain PIAIC152592', 'PIAIC152592'),\n",
              " ('11:42:30', 'Nabeel SHAHAB  (PIAIC185213)', 'PIAIC185213'),\n",
              " ('11:42:31', 'Muhammad Mehroz', 'PIAIC131496'),\n",
              " ('11:42:33', 'Muhammad Naveed PIAIC133985', 'PIAIC133985'),\n",
              " ('11:42:36', 'Muhammad Shahid-AIC005259', 'PIAIC005259'),\n",
              " ('11:42:40', 'Aisha Siddiqua', 'PIAIC181221'),\n",
              " ('11:42:44', 'Mohammad Javed', 'PIAIC185754'),\n",
              " ('11:42:45', 'Zeenat Zakir: Piaic 133802', 'PIAIC133802'),\n",
              " ('11:42:45', 'Asim sharif(PIAIC172797)', 'PIAIC172797'),\n",
              " ('11:42:48', 'Rehman', 'PIAIC173652'),\n",
              " ('11:42:57', 'Jawad Ahmed PIAIC96020', 'PIAIC96020'),\n",
              " ('11:42:59', 'SHEHZAD PIAIC180057', 'PIAIC180057'),\n",
              " ('11:43:01', 'LENOVO', 'PIAIC151960'),\n",
              " ('11:43:08', 'Abdul Qadar', 'PIAIC172941'),\n",
              " ('11:43:09', 'Noman Ali PIAIC 180111', 'PIAIC180111'),\n",
              " ('11:43:15', '185099 Murtaza', 'PIAIC185099'),\n",
              " ('11:43:15', 'Muhammad Athar PIAIC 174016', 'PIAIC174016'),\n",
              " ('11:43:24', 'Abdul Saboor Zaman PIAIC189261', 'PIAIC189261'),\n",
              " ('11:43:24', 'اسامه سلفى PIAIC91925', 'PIAIC91925'),\n",
              " ('11:43:39', 'SadafMansoor 84989', 'PIAIC94989'),\n",
              " ('11:43:46', 'Kainat PIAIC182352', 'PIAIC 182352'),\n",
              " ('11:43:47', 'Neelum Javaid PIAIC172527', 'PIAIC172527'),\n",
              " ('11:43:47', 'Zeeshan Latif', 'PIAIC171445'),\n",
              " ('11:43:54', 'Abdul Rehman Shafiq', 'PIAIC172525'),\n",
              " ('11:43:54', 'Ahmed Sohail', 'PIAIC186252')]"
            ]
          },
          "metadata": {},
          "execution_count": 67
        }
      ]
    },
    {
      "cell_type": "code",
      "source": [
        "tableData = pd.DataFrame(data,columns=[\"Time\",\"Name\",\"RollNumber\"])\n",
        "tableData"
      ],
      "metadata": {
        "colab": {
          "base_uri": "https://localhost:8080/",
          "height": 699
        },
        "id": "npoO9gVpGGtX",
        "outputId": "f286ff2b-0e0d-4c96-dad7-d315a2d687c4"
      },
      "execution_count": 68,
      "outputs": [
        {
          "output_type": "execute_result",
          "data": {
            "text/plain": [
              "         Time                       Name    RollNumber\n",
              "0    09:05:06                 Humera Naz  PIAIC 173431\n",
              "1    09:05:34                Sabir Zafar   PIAIC182023\n",
              "2    09:06:41              Salman Nayyer  PIAIC 180996\n",
              "3    09:09:07   Syed Jawad [PIAIC185558]   PIAIC185558\n",
              "4    09:09:12                Amir Rashid   PIAIC107890\n",
              "..        ...                        ...           ...\n",
              "223  11:43:46         Kainat PIAIC182352  PIAIC 182352\n",
              "224  11:43:47  Neelum Javaid PIAIC172527   PIAIC172527\n",
              "225  11:43:47              Zeeshan Latif   PIAIC171445\n",
              "226  11:43:54        Abdul Rehman Shafiq   PIAIC172525\n",
              "227  11:43:54               Ahmed Sohail   PIAIC186252\n",
              "\n",
              "[228 rows x 3 columns]"
            ],
            "text/html": [
              "\n",
              "  <div id=\"df-660a1e38-3830-4c28-995e-edf939cbb33f\" class=\"colab-df-container\">\n",
              "    <div>\n",
              "<style scoped>\n",
              "    .dataframe tbody tr th:only-of-type {\n",
              "        vertical-align: middle;\n",
              "    }\n",
              "\n",
              "    .dataframe tbody tr th {\n",
              "        vertical-align: top;\n",
              "    }\n",
              "\n",
              "    .dataframe thead th {\n",
              "        text-align: right;\n",
              "    }\n",
              "</style>\n",
              "<table border=\"1\" class=\"dataframe\">\n",
              "  <thead>\n",
              "    <tr style=\"text-align: right;\">\n",
              "      <th></th>\n",
              "      <th>Time</th>\n",
              "      <th>Name</th>\n",
              "      <th>RollNumber</th>\n",
              "    </tr>\n",
              "  </thead>\n",
              "  <tbody>\n",
              "    <tr>\n",
              "      <th>0</th>\n",
              "      <td>09:05:06</td>\n",
              "      <td>Humera Naz</td>\n",
              "      <td>PIAIC 173431</td>\n",
              "    </tr>\n",
              "    <tr>\n",
              "      <th>1</th>\n",
              "      <td>09:05:34</td>\n",
              "      <td>Sabir Zafar</td>\n",
              "      <td>PIAIC182023</td>\n",
              "    </tr>\n",
              "    <tr>\n",
              "      <th>2</th>\n",
              "      <td>09:06:41</td>\n",
              "      <td>Salman Nayyer</td>\n",
              "      <td>PIAIC 180996</td>\n",
              "    </tr>\n",
              "    <tr>\n",
              "      <th>3</th>\n",
              "      <td>09:09:07</td>\n",
              "      <td>Syed Jawad [PIAIC185558]</td>\n",
              "      <td>PIAIC185558</td>\n",
              "    </tr>\n",
              "    <tr>\n",
              "      <th>4</th>\n",
              "      <td>09:09:12</td>\n",
              "      <td>Amir Rashid</td>\n",
              "      <td>PIAIC107890</td>\n",
              "    </tr>\n",
              "    <tr>\n",
              "      <th>...</th>\n",
              "      <td>...</td>\n",
              "      <td>...</td>\n",
              "      <td>...</td>\n",
              "    </tr>\n",
              "    <tr>\n",
              "      <th>223</th>\n",
              "      <td>11:43:46</td>\n",
              "      <td>Kainat PIAIC182352</td>\n",
              "      <td>PIAIC 182352</td>\n",
              "    </tr>\n",
              "    <tr>\n",
              "      <th>224</th>\n",
              "      <td>11:43:47</td>\n",
              "      <td>Neelum Javaid PIAIC172527</td>\n",
              "      <td>PIAIC172527</td>\n",
              "    </tr>\n",
              "    <tr>\n",
              "      <th>225</th>\n",
              "      <td>11:43:47</td>\n",
              "      <td>Zeeshan Latif</td>\n",
              "      <td>PIAIC171445</td>\n",
              "    </tr>\n",
              "    <tr>\n",
              "      <th>226</th>\n",
              "      <td>11:43:54</td>\n",
              "      <td>Abdul Rehman Shafiq</td>\n",
              "      <td>PIAIC172525</td>\n",
              "    </tr>\n",
              "    <tr>\n",
              "      <th>227</th>\n",
              "      <td>11:43:54</td>\n",
              "      <td>Ahmed Sohail</td>\n",
              "      <td>PIAIC186252</td>\n",
              "    </tr>\n",
              "  </tbody>\n",
              "</table>\n",
              "<p>228 rows × 3 columns</p>\n",
              "</div>\n",
              "    <div class=\"colab-df-buttons\">\n",
              "\n",
              "  <div class=\"colab-df-container\">\n",
              "    <button class=\"colab-df-convert\" onclick=\"convertToInteractive('df-660a1e38-3830-4c28-995e-edf939cbb33f')\"\n",
              "            title=\"Convert this dataframe to an interactive table.\"\n",
              "            style=\"display:none;\">\n",
              "\n",
              "  <svg xmlns=\"http://www.w3.org/2000/svg\" height=\"24px\" viewBox=\"0 -960 960 960\">\n",
              "    <path d=\"M120-120v-720h720v720H120Zm60-500h600v-160H180v160Zm220 220h160v-160H400v160Zm0 220h160v-160H400v160ZM180-400h160v-160H180v160Zm440 0h160v-160H620v160ZM180-180h160v-160H180v160Zm440 0h160v-160H620v160Z\"/>\n",
              "  </svg>\n",
              "    </button>\n",
              "\n",
              "  <style>\n",
              "    .colab-df-container {\n",
              "      display:flex;\n",
              "      gap: 12px;\n",
              "    }\n",
              "\n",
              "    .colab-df-convert {\n",
              "      background-color: #E8F0FE;\n",
              "      border: none;\n",
              "      border-radius: 50%;\n",
              "      cursor: pointer;\n",
              "      display: none;\n",
              "      fill: #1967D2;\n",
              "      height: 32px;\n",
              "      padding: 0 0 0 0;\n",
              "      width: 32px;\n",
              "    }\n",
              "\n",
              "    .colab-df-convert:hover {\n",
              "      background-color: #E2EBFA;\n",
              "      box-shadow: 0px 1px 2px rgba(60, 64, 67, 0.3), 0px 1px 3px 1px rgba(60, 64, 67, 0.15);\n",
              "      fill: #174EA6;\n",
              "    }\n",
              "\n",
              "    .colab-df-buttons div {\n",
              "      margin-bottom: 4px;\n",
              "    }\n",
              "\n",
              "    [theme=dark] .colab-df-convert {\n",
              "      background-color: #3B4455;\n",
              "      fill: #D2E3FC;\n",
              "    }\n",
              "\n",
              "    [theme=dark] .colab-df-convert:hover {\n",
              "      background-color: #434B5C;\n",
              "      box-shadow: 0px 1px 3px 1px rgba(0, 0, 0, 0.15);\n",
              "      filter: drop-shadow(0px 1px 2px rgba(0, 0, 0, 0.3));\n",
              "      fill: #FFFFFF;\n",
              "    }\n",
              "  </style>\n",
              "\n",
              "    <script>\n",
              "      const buttonEl =\n",
              "        document.querySelector('#df-660a1e38-3830-4c28-995e-edf939cbb33f button.colab-df-convert');\n",
              "      buttonEl.style.display =\n",
              "        google.colab.kernel.accessAllowed ? 'block' : 'none';\n",
              "\n",
              "      async function convertToInteractive(key) {\n",
              "        const element = document.querySelector('#df-660a1e38-3830-4c28-995e-edf939cbb33f');\n",
              "        const dataTable =\n",
              "          await google.colab.kernel.invokeFunction('convertToInteractive',\n",
              "                                                    [key], {});\n",
              "        if (!dataTable) return;\n",
              "\n",
              "        const docLinkHtml = 'Like what you see? Visit the ' +\n",
              "          '<a target=\"_blank\" href=https://colab.research.google.com/notebooks/data_table.ipynb>data table notebook</a>'\n",
              "          + ' to learn more about interactive tables.';\n",
              "        element.innerHTML = '';\n",
              "        dataTable['output_type'] = 'display_data';\n",
              "        await google.colab.output.renderOutput(dataTable, element);\n",
              "        const docLink = document.createElement('div');\n",
              "        docLink.innerHTML = docLinkHtml;\n",
              "        element.appendChild(docLink);\n",
              "      }\n",
              "    </script>\n",
              "  </div>\n",
              "\n",
              "\n",
              "<div id=\"df-432ab1b9-0380-41ab-94d1-71bc500e29d4\">\n",
              "  <button class=\"colab-df-quickchart\" onclick=\"quickchart('df-432ab1b9-0380-41ab-94d1-71bc500e29d4')\"\n",
              "            title=\"Suggest charts.\"\n",
              "            style=\"display:none;\">\n",
              "\n",
              "<svg xmlns=\"http://www.w3.org/2000/svg\" height=\"24px\"viewBox=\"0 0 24 24\"\n",
              "     width=\"24px\">\n",
              "    <g>\n",
              "        <path d=\"M19 3H5c-1.1 0-2 .9-2 2v14c0 1.1.9 2 2 2h14c1.1 0 2-.9 2-2V5c0-1.1-.9-2-2-2zM9 17H7v-7h2v7zm4 0h-2V7h2v10zm4 0h-2v-4h2v4z\"/>\n",
              "    </g>\n",
              "</svg>\n",
              "  </button>\n",
              "\n",
              "<style>\n",
              "  .colab-df-quickchart {\n",
              "      --bg-color: #E8F0FE;\n",
              "      --fill-color: #1967D2;\n",
              "      --hover-bg-color: #E2EBFA;\n",
              "      --hover-fill-color: #174EA6;\n",
              "      --disabled-fill-color: #AAA;\n",
              "      --disabled-bg-color: #DDD;\n",
              "  }\n",
              "\n",
              "  [theme=dark] .colab-df-quickchart {\n",
              "      --bg-color: #3B4455;\n",
              "      --fill-color: #D2E3FC;\n",
              "      --hover-bg-color: #434B5C;\n",
              "      --hover-fill-color: #FFFFFF;\n",
              "      --disabled-bg-color: #3B4455;\n",
              "      --disabled-fill-color: #666;\n",
              "  }\n",
              "\n",
              "  .colab-df-quickchart {\n",
              "    background-color: var(--bg-color);\n",
              "    border: none;\n",
              "    border-radius: 50%;\n",
              "    cursor: pointer;\n",
              "    display: none;\n",
              "    fill: var(--fill-color);\n",
              "    height: 32px;\n",
              "    padding: 0;\n",
              "    width: 32px;\n",
              "  }\n",
              "\n",
              "  .colab-df-quickchart:hover {\n",
              "    background-color: var(--hover-bg-color);\n",
              "    box-shadow: 0 1px 2px rgba(60, 64, 67, 0.3), 0 1px 3px 1px rgba(60, 64, 67, 0.15);\n",
              "    fill: var(--button-hover-fill-color);\n",
              "  }\n",
              "\n",
              "  .colab-df-quickchart-complete:disabled,\n",
              "  .colab-df-quickchart-complete:disabled:hover {\n",
              "    background-color: var(--disabled-bg-color);\n",
              "    fill: var(--disabled-fill-color);\n",
              "    box-shadow: none;\n",
              "  }\n",
              "\n",
              "  .colab-df-spinner {\n",
              "    border: 2px solid var(--fill-color);\n",
              "    border-color: transparent;\n",
              "    border-bottom-color: var(--fill-color);\n",
              "    animation:\n",
              "      spin 1s steps(1) infinite;\n",
              "  }\n",
              "\n",
              "  @keyframes spin {\n",
              "    0% {\n",
              "      border-color: transparent;\n",
              "      border-bottom-color: var(--fill-color);\n",
              "      border-left-color: var(--fill-color);\n",
              "    }\n",
              "    20% {\n",
              "      border-color: transparent;\n",
              "      border-left-color: var(--fill-color);\n",
              "      border-top-color: var(--fill-color);\n",
              "    }\n",
              "    30% {\n",
              "      border-color: transparent;\n",
              "      border-left-color: var(--fill-color);\n",
              "      border-top-color: var(--fill-color);\n",
              "      border-right-color: var(--fill-color);\n",
              "    }\n",
              "    40% {\n",
              "      border-color: transparent;\n",
              "      border-right-color: var(--fill-color);\n",
              "      border-top-color: var(--fill-color);\n",
              "    }\n",
              "    60% {\n",
              "      border-color: transparent;\n",
              "      border-right-color: var(--fill-color);\n",
              "    }\n",
              "    80% {\n",
              "      border-color: transparent;\n",
              "      border-right-color: var(--fill-color);\n",
              "      border-bottom-color: var(--fill-color);\n",
              "    }\n",
              "    90% {\n",
              "      border-color: transparent;\n",
              "      border-bottom-color: var(--fill-color);\n",
              "    }\n",
              "  }\n",
              "</style>\n",
              "\n",
              "  <script>\n",
              "    async function quickchart(key) {\n",
              "      const quickchartButtonEl =\n",
              "        document.querySelector('#' + key + ' button');\n",
              "      quickchartButtonEl.disabled = true;  // To prevent multiple clicks.\n",
              "      quickchartButtonEl.classList.add('colab-df-spinner');\n",
              "      try {\n",
              "        const charts = await google.colab.kernel.invokeFunction(\n",
              "            'suggestCharts', [key], {});\n",
              "      } catch (error) {\n",
              "        console.error('Error during call to suggestCharts:', error);\n",
              "      }\n",
              "      quickchartButtonEl.classList.remove('colab-df-spinner');\n",
              "      quickchartButtonEl.classList.add('colab-df-quickchart-complete');\n",
              "    }\n",
              "    (() => {\n",
              "      let quickchartButtonEl =\n",
              "        document.querySelector('#df-432ab1b9-0380-41ab-94d1-71bc500e29d4 button');\n",
              "      quickchartButtonEl.style.display =\n",
              "        google.colab.kernel.accessAllowed ? 'block' : 'none';\n",
              "    })();\n",
              "  </script>\n",
              "</div>\n",
              "    </div>\n",
              "  </div>\n"
            ]
          },
          "metadata": {},
          "execution_count": 68
        },
        {
          "output_type": "stream",
          "name": "stdout",
          "text": [
            "WARNING: Runtime no longer has a reference to this dataframe, please re-run this cell and try again.\n"
          ]
        }
      ]
    }
  ]
}